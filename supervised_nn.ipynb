{
 "cells": [
  {
   "cell_type": "code",
   "execution_count": 1,
   "metadata": {},
   "outputs": [],
   "source": [
    "import numpy as np \n",
    "from matplotlib import pyplot as plt\n",
    "from matplotlib.backends.backend_pdf import PdfPages\n",
    "import pandas as pd\n",
    "from keras.models import Sequential\n",
    "from keras.layers import Dense, Dropout\n",
    "from tensorflow.keras.utils import to_categorical"
   ]
  },
  {
   "cell_type": "markdown",
   "metadata": {},
   "source": [
    "#### Import data and labels"
   ]
  },
  {
   "cell_type": "code",
   "execution_count": 2,
   "metadata": {},
   "outputs": [],
   "source": [
    "data_path = './blind_cameras_dataset'\n",
    "#neutrino-01 path: '/storage/gpfs_data/neutrino/SAND-LAr/SAND-LAr-OPTICALSIM-PROD/GRAIN/blindcam/data'\n",
    "  \n",
    "with open(data_path+'/simulation.npy', 'rb') as f:    #'+str(sim_num)+'\n",
    "    data_in = np.load(f)\n",
    "with open(data_path+'/inner_ph.npy', 'rb') as g:      #'+str(sim_num)+'\n",
    "    inner_ph_in = np.load(g)"
   ]
  },
  {
   "cell_type": "markdown",
   "metadata": {},
   "source": [
    "### Preprocessing"
   ]
  },
  {
   "cell_type": "code",
   "execution_count": 3,
   "metadata": {},
   "outputs": [
    {
     "name": "stdout",
     "output_type": "stream",
     "text": [
      "data shape (n_data, n_cam, cam_shape) : (1000, 54, 961)\n",
      "\n",
      "################ process data from root file ################\n",
      "inner photons shape : (54, 1000)\n",
      "labelled blind : 742\n"
     ]
    }
   ],
   "source": [
    "###### parameters #################\n",
    "root_threshold = 10\n",
    "###### fixed parameters ###########\n",
    "n_cam_in_grain = 54\n",
    "cam_side_length = 31\n",
    "renormalisation = 10000\n",
    "###################################\n",
    "\n",
    "data = (data_in).reshape(-1, n_cam_in_grain, cam_side_length**2)\n",
    "print('data shape (n_data, n_cam, cam_shape) :',data.shape)\n",
    "\n",
    "print('\\n' + '################ process data from root file ################') \n",
    "  \n",
    "inner_ph = inner_ph_in.reshape(n_cam_in_grain, -1)    #inner_ph_in.reshape(76,-1)  \n",
    "print('inner photons shape :',inner_ph.shape)\n",
    "  \n",
    "overthr_inner_evn = np.unique( np.where( inner_ph > root_threshold )[1] )\n",
    "label = np.zeros(inner_ph_in.size).reshape(-1, n_cam_in_grain)\n",
    "\n",
    "for evn in overthr_inner_evn:\n",
    "    for cam in np.unique( np.where( inner_ph.T[evn] > root_threshold ) ):\n",
    "        label[evn][cam] = 1\n",
    "print('labelled blind :', np.where(label==1)[0].size)"
   ]
  },
  {
   "cell_type": "markdown",
   "metadata": {},
   "source": [
    "#### Split into test and training sets"
   ]
  },
  {
   "cell_type": "code",
   "execution_count": 4,
   "metadata": {},
   "outputs": [
    {
     "data": {
      "text/plain": [
       "(800, 54, 961)"
      ]
     },
     "execution_count": 4,
     "metadata": {},
     "output_type": "execute_result"
    }
   ],
   "source": [
    "train_data, test_data = data[:800], data[800:]\n",
    "train_label, test_label = label[:800], label[800:]\n",
    "\n",
    "train_data.shape"
   ]
  },
  {
   "cell_type": "code",
   "execution_count": 5,
   "metadata": {},
   "outputs": [
    {
     "data": {
      "text/plain": [
       "array([1., 0.], dtype=float32)"
      ]
     },
     "execution_count": 5,
     "metadata": {},
     "output_type": "execute_result"
    }
   ],
   "source": [
    "train_data = train_data.reshape(-1, cam_side_length, cam_side_length, 1)\n",
    "test_data = test_data.reshape(-1, cam_side_length, cam_side_length, 1)\n",
    "\n",
    "train_data = train_data.astype('float32')\n",
    "test_data = test_data.astype('float32')\n",
    "\n",
    "train_data /= renormalisation\n",
    "test_data /= renormalisation\n",
    "\n",
    "train_label = train_label.flatten()\n",
    "test_label = test_label.flatten()\n",
    "\n",
    "train_label_ohe = to_categorical(train_label,2)\n",
    "test_label_ohe = to_categorical(test_label,2)\n",
    "\n",
    "test_label_ohe[0]"
   ]
  },
  {
   "cell_type": "markdown",
   "metadata": {},
   "source": [
    "## First NN"
   ]
  },
  {
   "cell_type": "code",
   "execution_count": 6,
   "metadata": {},
   "outputs": [
    {
     "name": "stdout",
     "output_type": "stream",
     "text": [
      "Epoch 1/40\n",
      "270/270 [==============================] - 2s 6ms/step - loss: 0.1127 - accuracy: 0.9855 - val_loss: 0.0441 - val_accuracy: 0.9895\n",
      "Epoch 2/40\n",
      "270/270 [==============================] - 1s 5ms/step - loss: 0.0503 - accuracy: 0.9877 - val_loss: 0.0454 - val_accuracy: 0.9897\n",
      "Epoch 3/40\n",
      "270/270 [==============================] - 1s 5ms/step - loss: 0.0496 - accuracy: 0.9878 - val_loss: 0.0427 - val_accuracy: 0.9902\n",
      "Epoch 4/40\n",
      "270/270 [==============================] - 1s 5ms/step - loss: 0.0486 - accuracy: 0.9876 - val_loss: 0.0420 - val_accuracy: 0.9897\n",
      "Epoch 5/40\n",
      "270/270 [==============================] - 1s 5ms/step - loss: 0.0477 - accuracy: 0.9880 - val_loss: 0.0412 - val_accuracy: 0.9904\n",
      "Epoch 6/40\n",
      "270/270 [==============================] - 1s 5ms/step - loss: 0.0477 - accuracy: 0.9881 - val_loss: 0.0431 - val_accuracy: 0.9883\n",
      "Epoch 7/40\n",
      "270/270 [==============================] - 2s 6ms/step - loss: 0.0469 - accuracy: 0.9883 - val_loss: 0.0414 - val_accuracy: 0.9906\n",
      "Epoch 8/40\n",
      "270/270 [==============================] - 1s 5ms/step - loss: 0.0460 - accuracy: 0.9884 - val_loss: 0.0404 - val_accuracy: 0.9906\n",
      "Epoch 9/40\n",
      "270/270 [==============================] - 1s 5ms/step - loss: 0.0463 - accuracy: 0.9886 - val_loss: 0.0405 - val_accuracy: 0.9905\n",
      "Epoch 10/40\n",
      "270/270 [==============================] - 1s 5ms/step - loss: 0.0459 - accuracy: 0.9889 - val_loss: 0.0411 - val_accuracy: 0.9906\n",
      "Epoch 11/40\n",
      "270/270 [==============================] - 1s 5ms/step - loss: 0.0452 - accuracy: 0.9889 - val_loss: 0.0401 - val_accuracy: 0.9904\n",
      "Epoch 12/40\n",
      "270/270 [==============================] - 1s 5ms/step - loss: 0.0452 - accuracy: 0.9888 - val_loss: 0.0404 - val_accuracy: 0.9904\n",
      "Epoch 13/40\n",
      "270/270 [==============================] - 1s 6ms/step - loss: 0.0449 - accuracy: 0.9887 - val_loss: 0.0412 - val_accuracy: 0.9903\n",
      "Epoch 14/40\n",
      "270/270 [==============================] - 1s 5ms/step - loss: 0.0446 - accuracy: 0.9889 - val_loss: 0.0400 - val_accuracy: 0.9909\n",
      "Epoch 15/40\n",
      "270/270 [==============================] - 1s 5ms/step - loss: 0.0443 - accuracy: 0.9893 - val_loss: 0.0403 - val_accuracy: 0.9906\n",
      "Epoch 16/40\n",
      "270/270 [==============================] - 1s 5ms/step - loss: 0.0440 - accuracy: 0.9893 - val_loss: 0.0402 - val_accuracy: 0.9906\n",
      "Epoch 17/40\n",
      "270/270 [==============================] - 2s 6ms/step - loss: 0.0441 - accuracy: 0.9893 - val_loss: 0.0403 - val_accuracy: 0.9905\n",
      "Epoch 18/40\n",
      "270/270 [==============================] - 2s 6ms/step - loss: 0.0434 - accuracy: 0.9892 - val_loss: 0.0408 - val_accuracy: 0.9906\n",
      "Epoch 19/40\n",
      "270/270 [==============================] - 1s 5ms/step - loss: 0.0439 - accuracy: 0.9892 - val_loss: 0.0403 - val_accuracy: 0.9909\n",
      "Epoch 20/40\n",
      "270/270 [==============================] - 1s 5ms/step - loss: 0.0435 - accuracy: 0.9892 - val_loss: 0.0411 - val_accuracy: 0.9905\n",
      "Epoch 21/40\n",
      "270/270 [==============================] - 1s 5ms/step - loss: 0.0427 - accuracy: 0.9893 - val_loss: 0.0430 - val_accuracy: 0.9911\n",
      "Epoch 22/40\n",
      "270/270 [==============================] - 1s 5ms/step - loss: 0.0426 - accuracy: 0.9894 - val_loss: 0.0417 - val_accuracy: 0.9907\n",
      "Epoch 23/40\n",
      "270/270 [==============================] - 1s 5ms/step - loss: 0.0422 - accuracy: 0.9894 - val_loss: 0.0405 - val_accuracy: 0.9906\n",
      "Epoch 24/40\n",
      "270/270 [==============================] - 2s 7ms/step - loss: 0.0419 - accuracy: 0.9896 - val_loss: 0.0424 - val_accuracy: 0.9909\n",
      "Epoch 25/40\n",
      "270/270 [==============================] - 2s 6ms/step - loss: 0.0423 - accuracy: 0.9896 - val_loss: 0.0407 - val_accuracy: 0.9909\n",
      "Epoch 26/40\n",
      "270/270 [==============================] - 1s 5ms/step - loss: 0.0424 - accuracy: 0.9896 - val_loss: 0.0413 - val_accuracy: 0.9909\n",
      "Epoch 27/40\n",
      "270/270 [==============================] - 1s 6ms/step - loss: 0.0412 - accuracy: 0.9894 - val_loss: 0.0417 - val_accuracy: 0.9907\n",
      "Epoch 28/40\n",
      "270/270 [==============================] - 2s 6ms/step - loss: 0.0412 - accuracy: 0.9895 - val_loss: 0.0414 - val_accuracy: 0.9907\n",
      "Epoch 29/40\n",
      "270/270 [==============================] - 2s 6ms/step - loss: 0.0407 - accuracy: 0.9897 - val_loss: 0.0415 - val_accuracy: 0.9906\n",
      "Epoch 30/40\n",
      "270/270 [==============================] - 1s 5ms/step - loss: 0.0408 - accuracy: 0.9898 - val_loss: 0.0418 - val_accuracy: 0.9907\n",
      "Epoch 31/40\n",
      "270/270 [==============================] - 1s 5ms/step - loss: 0.0404 - accuracy: 0.9897 - val_loss: 0.0416 - val_accuracy: 0.9907\n",
      "Epoch 32/40\n",
      "270/270 [==============================] - 1s 5ms/step - loss: 0.0394 - accuracy: 0.9898 - val_loss: 0.0422 - val_accuracy: 0.9907\n",
      "Epoch 33/40\n",
      "270/270 [==============================] - 2s 6ms/step - loss: 0.0399 - accuracy: 0.9898 - val_loss: 0.0436 - val_accuracy: 0.9909\n",
      "Epoch 34/40\n",
      "270/270 [==============================] - 1s 6ms/step - loss: 0.0390 - accuracy: 0.9901 - val_loss: 0.0456 - val_accuracy: 0.9905\n",
      "Epoch 35/40\n",
      "270/270 [==============================] - 2s 6ms/step - loss: 0.0384 - accuracy: 0.9901 - val_loss: 0.0446 - val_accuracy: 0.9906\n",
      "Epoch 36/40\n",
      "270/270 [==============================] - 2s 6ms/step - loss: 0.0378 - accuracy: 0.9903 - val_loss: 0.0455 - val_accuracy: 0.9906\n",
      "Epoch 37/40\n",
      "270/270 [==============================] - 2s 6ms/step - loss: 0.0376 - accuracy: 0.9903 - val_loss: 0.0451 - val_accuracy: 0.9907\n",
      "Epoch 38/40\n",
      "270/270 [==============================] - 1s 5ms/step - loss: 0.0375 - accuracy: 0.9903 - val_loss: 0.0449 - val_accuracy: 0.9907\n",
      "Epoch 39/40\n",
      "270/270 [==============================] - 1s 5ms/step - loss: 0.0376 - accuracy: 0.9902 - val_loss: 0.0437 - val_accuracy: 0.9911\n",
      "Epoch 40/40\n",
      "270/270 [==============================] - 1s 5ms/step - loss: 0.0370 - accuracy: 0.9907 - val_loss: 0.0460 - val_accuracy: 0.9905\n"
     ]
    },
    {
     "data": {
      "text/plain": [
       "<AxesSubplot: >"
      ]
     },
     "execution_count": 6,
     "metadata": {},
     "output_type": "execute_result"
    },
    {
     "data": {
      "image/png": "[encoded data removed]",
      "text/plain": [
       "<Figure size 640x480 with 1 Axes>"
      ]
     },
     "metadata": {},
     "output_type": "display_data"
    }
   ],
   "source": [
    "n_hidden = 128\n",
    "n_classes = 2\n",
    "\n",
    "train_data_0 = train_data.reshape(-1, cam_side_length*cam_side_length)\n",
    "test_data_0 = test_data.reshape(-1, cam_side_length*cam_side_length)\n",
    "\n",
    "model0 = Sequential()\n",
    "model0.add(Dense(n_hidden, \n",
    "                 input_shape=(cam_side_length*cam_side_length,), \n",
    "                 name='dense_layer', \n",
    "                 activation='relu'))\n",
    "model0.add(Dropout(0.3))\n",
    "model0.add(Dense(n_hidden,  \n",
    "                 name='dense_layer_2', \n",
    "                 activation='relu'))\n",
    "model0.add(Dropout(0.3))\n",
    "model0.add(Dense(n_classes,  \n",
    "                 name='dense_layer_3', \n",
    "                 activation='softmax'))\n",
    "\n",
    "model0.compile(optimizer='adam', \n",
    "               loss='categorical_crossentropy',\n",
    "               metrics=['accuracy'])\n",
    "\n",
    "history_callback0 = model0.fit(train_data_0, train_label_ohe,\n",
    "                              batch_size=128, epochs=40,\n",
    "                              verbose=1, validation_split=0.2)\n",
    "pd.DataFrame(history_callback0.history).plot(logy=True)"
   ]
  },
  {
   "cell_type": "code",
   "execution_count": 12,
   "metadata": {},
   "outputs": [
    {
     "name": "stdout",
     "output_type": "stream",
     "text": [
      "338/338 [==============================] - 1s 2ms/step - loss: 0.0559 - accuracy: 0.9874\n",
      "Test accuracy: 0.987407386302948\n",
      "338/338 [==============================] - 1s 2ms/step\n"
     ]
    }
   ],
   "source": [
    "test_loss0, test_acc0 = model0.evaluate(test_data_0, test_label_ohe)\n",
    "print('Test accuracy:', test_acc0)\n",
    "\n",
    "pred0 = model0.predict(test_data_0)"
   ]
  },
  {
   "cell_type": "code",
   "execution_count": 13,
   "metadata": {},
   "outputs": [
    {
     "name": "stdout",
     "output_type": "stream",
     "text": [
      "labelled : 164\n",
      "predicted : 52\n",
      "true positive : 40\n",
      "false positive : [  355   358  3521  4303  4690  4761  5605  5899  6534  6535 10551 10552]\n",
      "false negative : 124\n",
      "\n",
      "\n",
      "(array([   97,   218,   230,   355,   358,   480,  1075,  1108,  1650,\n",
      "        1656,  2562,  2816,  2829,  2831,  3286,  3407,  3521,  4216,\n",
      "        4303,  4380,  4690,  4761,  4875,  4876,  5164,  5356,  5605,\n",
      "        5899,  6534,  6535,  6689,  7121,  7149,  7270,  7271,  7564,\n",
      "        7697,  7708,  8039,  8432,  8979,  9025,  9064,  9400,  9514,\n",
      "        9572, 10107, 10210, 10518, 10549, 10551, 10552], dtype=int64),)\n",
      "(array([   64,    73,    97,   218,   230,   260,   274,   285,   301,\n",
      "         427,   428,   479,   480,   482,   811,   987,  1075,  1108,\n",
      "        1122,  1444,  1515,  1604,  1607,  1608,  1643,  1644,  1650,\n",
      "        1656,  1785,  1797,  1850,  1947,  2095,  2318,  2319,  2403,\n",
      "        2439,  2445,  2486,  2488,  2500,  2551,  2552,  2561,  2562,\n",
      "        2616,  2674,  2685,  2773,  2816,  2817,  2818,  2820,  2825,\n",
      "        2828,  2829,  2831,  2833,  2952,  2997,  3221,  3235,  3286,\n",
      "        3302,  3378,  3385,  3407,  3520,  3528,  3654,  3798,  4011,\n",
      "        4181,  4216,  4296,  4349,  4356,  4380,  4454,  4456,  4700,\n",
      "        4710,  4873,  4875,  4876,  5100,  5161,  5164,  5191,  5246,\n",
      "        5247,  5356,  5812,  5895,  5898,  5900,  6243,  6275,  6312,\n",
      "        6351,  6406,  6593,  6689,  6918,  6919,  7025,  7121,  7122,\n",
      "        7137,  7149,  7151,  7152,  7243,  7267,  7268,  7269,  7270,\n",
      "        7271,  7279,  7562,  7564,  7565,  7695,  7697,  7708,  8039,\n",
      "        8149,  8185,  8285,  8337,  8392,  8432,  8499,  8537,  8538,\n",
      "        8979,  9025,  9037,  9049,  9050,  9051,  9052,  9060,  9064,\n",
      "        9065,  9172,  9173,  9319,  9400,  9514,  9572, 10049, 10107,\n",
      "       10140, 10196, 10210, 10288, 10345, 10349, 10509, 10510, 10518,\n",
      "       10549, 10618], dtype=int64),)\n"
     ]
    }
   ],
   "source": [
    "pred0 = np.around(pred0) \n",
    "    \n",
    "pred0_dec = np.dot(pred0, np.array([0,1], dtype='float32'))\n",
    "pred0_lab = np.dot(test_label_ohe, np.array([0,1], dtype='float32'))\n",
    "    \n",
    "# print(pred0_dec.shape)\n",
    "# print(np.where(pred0_dec==1))\n",
    "# print(np.where(pred0_lab==1))\n",
    "\n",
    "print('labelled :', np.where(pred0_lab==1)[0].size)  \n",
    "print('predicted :',  np.where(pred0_dec==1)[0].size) \n",
    "print('true positive :', np.intersect1d(np.where(pred0_lab==1), np.where(pred0_dec==1)).shape[0])     \n",
    "print('false positive :', np.intersect1d(np.where(pred0_lab==0), np.where(pred0_dec==1)).shape[0])    \n",
    "print('false negative :', np.intersect1d(np.where(pred0_lab==1), np.where(pred0_dec==0)).shape[0]) \n",
    "print('\\n')\n",
    "print(np.where(pred0_dec==1))\n",
    "print(np.where(pred0_lab==1))\n",
    "\n",
    "write_pdf = True\n",
    "if write_pdf :\n",
    "    pdf = PdfPages('./nn.pdf')\n",
    "    for evn in np.intersect1d(np.where(pred0_lab==1), np.where(pred0_dec==1)):\n",
    "        fig = plt.figure()\n",
    "        matrix = plt.pcolormesh(test_data[evn].reshape(cam_side_length,cam_side_length)*renormalisation)\n",
    "        plt.colorbar(matrix)\n",
    "        plt.title('TRUE positive')\n",
    "        pdf.savefig(fig)\n",
    "        plt.close()\n",
    "    for evn in np.intersect1d(np.where(pred0_lab==0), np.where(pred0_dec==1)):\n",
    "        fig = plt.figure()\n",
    "        matrix = plt.pcolormesh(test_data[evn].reshape(cam_side_length,cam_side_length)*renormalisation)\n",
    "        plt.colorbar(matrix)\n",
    "        plt.title('FALSE positive')\n",
    "        pdf.savefig(fig)\n",
    "        plt.close()\n",
    "    for evn in np.intersect1d(np.where(pred0_lab==1), np.where(pred0_dec==0)):\n",
    "        fig = plt.figure()\n",
    "        matrix = plt.pcolormesh(test_data[evn].reshape(cam_side_length,cam_side_length)*renormalisation)\n",
    "        plt.colorbar(matrix)\n",
    "        plt.title('FALSE negative')\n",
    "        pdf.savefig(fig)\n",
    "        plt.close()\n",
    "    pdf.close()\n",
    "  "
   ]
  },
  {
   "cell_type": "markdown",
   "metadata": {},
   "source": [
    "## NN\n"
   ]
  },
  {
   "cell_type": "code",
   "execution_count": 9,
   "metadata": {},
   "outputs": [],
   "source": [
    "# train_data_nn = train_data.reshape(-1, cam_side_length*cam_side_length)\n",
    "# test_data_nn = test_data.reshape(-1, cam_side_length*cam_side_length)\n",
    "\n",
    "# my_network = models.Sequential([\n",
    "#   layers.Dense(350, activation='relu'),\n",
    "#   layers.Dense(350, activation='relu'),\n",
    "#   layers.Dense(350, activation='relu'),\n",
    "#   layers.Dense(3, activation='softmax')\n",
    "# ])\n",
    "\n",
    "# # the compilation step\n",
    "# my_network.compile(optimizer='rmsprop',\n",
    "#                    loss='sparse_categorical_crossentropy',\n",
    "#                    metrics=['accuracy'])"
   ]
  },
  {
   "cell_type": "code",
   "execution_count": 10,
   "metadata": {},
   "outputs": [],
   "source": [
    "# history_callback = my_network.fit(train_data_nn, train_label, epochs=10)\n",
    "# pd.DataFrame(history_callback.history).plot()"
   ]
  },
  {
   "cell_type": "code",
   "execution_count": 11,
   "metadata": {},
   "outputs": [],
   "source": [
    "# test_loss, test_acc = my_network.evaluate(test_data_nn, test_label)\n",
    "# print('test_acc:', test_acc)"
   ]
  }
 ],
 "metadata": {
  "kernelspec": {
   "display_name": "Python 3",
   "language": "python",
   "name": "python3"
  },
  "language_info": {
   "codemirror_mode": {
    "name": "ipython",
    "version": 3
   },
   "file_extension": ".py",
   "mimetype": "text/x-python",
   "name": "python",
   "nbconvert_exporter": "python",
   "pygments_lexer": "ipython3",
   "version": "3.10.6"
  },
  "orig_nbformat": 4
 },
 "nbformat": 4,
 "nbformat_minor": 2
}
