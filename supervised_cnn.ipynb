{
 "cells": [
  {
   "cell_type": "code",
   "execution_count": 21,
   "metadata": {},
   "outputs": [],
   "source": [
    "import numpy as np \n",
    "from matplotlib import pyplot as plt\n",
    "from matplotlib.backends.backend_pdf import PdfPages\n",
    "import pandas as pd\n",
    "from keras.models import Sequential\n",
    "from keras.layers import Dense, Conv2D, MaxPooling2D, Flatten, Dropout\n",
    "from tensorflow.keras.utils import to_categorical\n",
    "from tensorflow.keras import models\n",
    "from tensorflow.keras import layers"
   ]
  },
  {
   "cell_type": "markdown",
   "metadata": {},
   "source": [
    "#### Import data and labels\n"
   ]
  },
  {
   "cell_type": "code",
   "execution_count": 2,
   "metadata": {},
   "outputs": [],
   "source": [
    "data_path = './blind_cameras_dataset'\n",
    "#neutrino-01 path: '/storage/gpfs_data/neutrino/SAND-LAr/SAND-LAr-OPTICALSIM-PROD/GRAIN/blindcam/data'\n",
    "  \n",
    "with open(data_path+'/simulation.npy', 'rb') as f:    #'+str(sim_num)+'\n",
    "    data_in = np.load(f)\n",
    "with open(data_path+'/inner_ph.npy', 'rb') as g:      #'+str(sim_num)+'\n",
    "    inner_ph_in = np.load(g)\n",
    "### Preprocessing"
   ]
  },
  {
   "cell_type": "markdown",
   "metadata": {},
   "source": [
    "### Preprocessing"
   ]
  },
  {
   "cell_type": "code",
   "execution_count": 3,
   "metadata": {},
   "outputs": [
    {
     "name": "stdout",
     "output_type": "stream",
     "text": [
      "data shape (n_data, n_cam, cam_shape) : (1000, 54, 961)\n",
      "\n",
      "################ process data from root file ################\n",
      "inner photons shape : (54, 1000)\n",
      "labelled blind : 742\n"
     ]
    }
   ],
   "source": [
    "###### parameters #################\n",
    "root_threshold = 10\n",
    "###### fixed parameters ###########\n",
    "n_cam_in_grain = 54\n",
    "cam_side_length = 31\n",
    "renormalisation = 10000\n",
    "###################################\n",
    "\n",
    "data = (data_in).reshape(-1, n_cam_in_grain, cam_side_length**2)\n",
    "print('data shape (n_data, n_cam, cam_shape) :',data.shape)\n",
    "\n",
    "print('\\n' + '################ process data from root file ################') \n",
    "  \n",
    "inner_ph = inner_ph_in.reshape(n_cam_in_grain, -1)    #inner_ph_in.reshape(76,-1)  \n",
    "print('inner photons shape :',inner_ph.shape)\n",
    "  \n",
    "overthr_inner_evn = np.unique( np.where( inner_ph > root_threshold )[1] )\n",
    "label = np.zeros(inner_ph_in.size).reshape(-1, n_cam_in_grain)\n",
    "\n",
    "for evn in overthr_inner_evn:\n",
    "    for cam in np.unique( np.where( inner_ph.T[evn] > root_threshold ) ):\n",
    "        label[evn][cam] = 1\n",
    "print('labelled blind :', np.where(label==1)[0].size)"
   ]
  },
  {
   "cell_type": "markdown",
   "metadata": {},
   "source": [
    "#### Split into test and training sets"
   ]
  },
  {
   "cell_type": "code",
   "execution_count": 4,
   "metadata": {},
   "outputs": [
    {
     "data": {
      "text/plain": [
       "(800, 54, 961)"
      ]
     },
     "execution_count": 4,
     "metadata": {},
     "output_type": "execute_result"
    }
   ],
   "source": [
    "train_data, test_data = data[:800], data[800:]\n",
    "train_label, test_label = label[:800], label[800:]\n",
    "\n",
    "train_data.shape"
   ]
  },
  {
   "cell_type": "code",
   "execution_count": 5,
   "metadata": {},
   "outputs": [
    {
     "data": {
      "text/plain": [
       "array([1., 0.], dtype=float32)"
      ]
     },
     "execution_count": 5,
     "metadata": {},
     "output_type": "execute_result"
    }
   ],
   "source": [
    "train_data = train_data.reshape(-1, cam_side_length, cam_side_length, 1)\n",
    "test_data = test_data.reshape(-1, cam_side_length, cam_side_length, 1)\n",
    "\n",
    "train_data = train_data.astype('float32')\n",
    "test_data = test_data.astype('float32')\n",
    "\n",
    "train_data /= renormalisation\n",
    "test_data /= renormalisation\n",
    "\n",
    "train_label = train_label.flatten()\n",
    "test_label = test_label.flatten()\n",
    "\n",
    "train_label_ohe = to_categorical(train_label,2)\n",
    "test_label_ohe = to_categorical(test_label,2)\n",
    "\n",
    "test_label_ohe[0]"
   ]
  },
  {
   "cell_type": "markdown",
   "metadata": {},
   "source": [
    "## CNN model\n"
   ]
  },
  {
   "cell_type": "code",
   "execution_count": 28,
   "metadata": {},
   "outputs": [
    {
     "name": "stdout",
     "output_type": "stream",
     "text": [
      "Epoch 1/30\n",
      "1350/1350 [==============================] - 29s 21ms/step - loss: 0.0661 - accuracy: 0.9875 - val_loss: 0.0610 - val_accuracy: 0.9865\n",
      "Epoch 2/30\n",
      "1350/1350 [==============================] - 27s 20ms/step - loss: 0.0552 - accuracy: 0.9886 - val_loss: 0.0588 - val_accuracy: 0.9866\n",
      "Epoch 3/30\n",
      "1350/1350 [==============================] - 27s 20ms/step - loss: 0.0510 - accuracy: 0.9890 - val_loss: 0.0586 - val_accuracy: 0.9874\n",
      "Epoch 4/30\n",
      "1350/1350 [==============================] - 27s 20ms/step - loss: 0.0488 - accuracy: 0.9892 - val_loss: 0.0539 - val_accuracy: 0.9878\n",
      "Epoch 5/30\n",
      "1350/1350 [==============================] - 27s 20ms/step - loss: 0.0472 - accuracy: 0.9894 - val_loss: 0.0534 - val_accuracy: 0.9881\n",
      "Epoch 6/30\n",
      "1350/1350 [==============================] - 27s 20ms/step - loss: 0.0464 - accuracy: 0.9894 - val_loss: 0.0501 - val_accuracy: 0.9879\n",
      "Epoch 7/30\n",
      "1350/1350 [==============================] - 26s 19ms/step - loss: 0.0452 - accuracy: 0.9895 - val_loss: 0.0553 - val_accuracy: 0.9881\n",
      "Epoch 8/30\n",
      "1350/1350 [==============================] - 27s 20ms/step - loss: 0.0447 - accuracy: 0.9898 - val_loss: 0.0592 - val_accuracy: 0.9875\n",
      "Epoch 9/30\n",
      "1350/1350 [==============================] - 27s 20ms/step - loss: 0.0448 - accuracy: 0.9896 - val_loss: 0.0490 - val_accuracy: 0.9884\n",
      "Epoch 10/30\n",
      "1350/1350 [==============================] - 27s 20ms/step - loss: 0.0436 - accuracy: 0.9898 - val_loss: 0.0494 - val_accuracy: 0.9878\n",
      "Epoch 11/30\n",
      "1350/1350 [==============================] - 27s 20ms/step - loss: 0.0435 - accuracy: 0.9896 - val_loss: 0.0491 - val_accuracy: 0.9886\n",
      "Epoch 12/30\n",
      "1350/1350 [==============================] - 27s 20ms/step - loss: 0.0425 - accuracy: 0.9900 - val_loss: 0.0471 - val_accuracy: 0.9886\n",
      "Epoch 13/30\n",
      "1350/1350 [==============================] - 27s 20ms/step - loss: 0.0419 - accuracy: 0.9900 - val_loss: 0.0796 - val_accuracy: 0.9883\n",
      "Epoch 14/30\n",
      "1350/1350 [==============================] - 26s 20ms/step - loss: 0.0412 - accuracy: 0.9900 - val_loss: 0.0519 - val_accuracy: 0.9886\n",
      "Epoch 15/30\n",
      "1350/1350 [==============================] - 27s 20ms/step - loss: 0.0400 - accuracy: 0.9904 - val_loss: 0.0488 - val_accuracy: 0.9891\n",
      "Epoch 16/30\n",
      "1350/1350 [==============================] - 27s 20ms/step - loss: 0.0407 - accuracy: 0.9902 - val_loss: 0.0473 - val_accuracy: 0.9892\n",
      "Epoch 17/30\n",
      "1350/1350 [==============================] - 27s 20ms/step - loss: 0.0399 - accuracy: 0.9904 - val_loss: 0.0450 - val_accuracy: 0.9889\n",
      "Epoch 18/30\n",
      "1350/1350 [==============================] - 27s 20ms/step - loss: 0.0394 - accuracy: 0.9905 - val_loss: 0.0521 - val_accuracy: 0.9893\n",
      "Epoch 19/30\n",
      "1350/1350 [==============================] - 25s 19ms/step - loss: 0.0395 - accuracy: 0.9906 - val_loss: 0.0460 - val_accuracy: 0.9890\n",
      "Epoch 20/30\n",
      "1350/1350 [==============================] - 26s 19ms/step - loss: 0.0376 - accuracy: 0.9907 - val_loss: 0.0443 - val_accuracy: 0.9887\n",
      "Epoch 21/30\n",
      "1350/1350 [==============================] - 26s 19ms/step - loss: 0.0379 - accuracy: 0.9908 - val_loss: 0.0499 - val_accuracy: 0.9890\n",
      "Epoch 22/30\n",
      "1350/1350 [==============================] - 27s 20ms/step - loss: 0.0371 - accuracy: 0.9909 - val_loss: 0.0472 - val_accuracy: 0.9892\n",
      "Epoch 23/30\n",
      "1350/1350 [==============================] - 26s 19ms/step - loss: 0.0370 - accuracy: 0.9908 - val_loss: 0.0450 - val_accuracy: 0.9892\n",
      "Epoch 24/30\n",
      "1350/1350 [==============================] - 27s 20ms/step - loss: 0.0360 - accuracy: 0.9911 - val_loss: 0.0467 - val_accuracy: 0.9894\n",
      "Epoch 25/30\n",
      "1350/1350 [==============================] - 27s 20ms/step - loss: 0.0350 - accuracy: 0.9912 - val_loss: 0.0527 - val_accuracy: 0.9894\n",
      "Epoch 26/30\n",
      "1350/1350 [==============================] - 26s 20ms/step - loss: 0.0353 - accuracy: 0.9912 - val_loss: 0.0500 - val_accuracy: 0.9893\n",
      "Epoch 27/30\n",
      "1350/1350 [==============================] - 27s 20ms/step - loss: 0.0349 - accuracy: 0.9914 - val_loss: 0.0450 - val_accuracy: 0.9891\n",
      "Epoch 28/30\n",
      "1350/1350 [==============================] - 27s 20ms/step - loss: 0.0354 - accuracy: 0.9912 - val_loss: 0.0475 - val_accuracy: 0.9894\n",
      "Epoch 29/30\n",
      "1350/1350 [==============================] - 27s 20ms/step - loss: 0.0350 - accuracy: 0.9913 - val_loss: 0.0488 - val_accuracy: 0.9896\n",
      "Epoch 30/30\n",
      "1350/1350 [==============================] - 27s 20ms/step - loss: 0.0349 - accuracy: 0.9913 - val_loss: 0.0457 - val_accuracy: 0.9894\n"
     ]
    },
    {
     "data": {
      "text/plain": [
       "<AxesSubplot: >"
      ]
     },
     "execution_count": 28,
     "metadata": {},
     "output_type": "execute_result"
    },
    {
     "data": {
      "image/png": "[encoded data removed]",
      "text/plain": [
       "<Figure size 640x480 with 1 Axes>"
      ]
     },
     "metadata": {},
     "output_type": "display_data"
    }
   ],
   "source": [
    "#create model\n",
    "model = Sequential()\n",
    "#add model layers\n",
    "model.add(Conv2D(32, kernel_size=3, activation='relu', input_shape=(cam_side_length,cam_side_length,1)))\n",
    "model.add(MaxPooling2D(pool_size=(2,2), strides=(2,2)))\n",
    "model.add(Conv2D(64, kernel_size=3, activation='relu'))\n",
    "model.add(MaxPooling2D(pool_size=(2,2), strides=(2,2)))\n",
    "model.add(Flatten())\n",
    "model.add(Dense(128, activation='relu'))\n",
    "model.add(Dense(2, activation='softmax'))\n",
    "\n",
    "#compile model using accuracy to measure model performance\n",
    "model.compile(optimizer='adam', loss='categorical_crossentropy', metrics=['accuracy'])\n",
    "\n",
    "#model.summary()\n",
    "\n",
    "#train the model\n",
    "history_callback = model.fit(train_data, train_label_ohe, validation_data=(test_data, test_label_ohe), epochs=30)\n",
    "pd.DataFrame(history_callback.history).plot(logy=True)\n"
   ]
  },
  {
   "cell_type": "code",
   "execution_count": 29,
   "metadata": {},
   "outputs": [
    {
     "name": "stdout",
     "output_type": "stream",
     "text": [
      "338/338 [==============================] - 3s 9ms/step - loss: 0.0457 - accuracy: 0.9894\n",
      "test_acc: 0.9894444346427917\n",
      "338/338 [==============================] - 3s 7ms/step\n",
      "labelled : 164\n",
      "predicted : 60\n",
      "true positive : 55\n",
      "false positive : [2827 4303 4761 5605 9620]\n",
      "false negative : 109\n",
      "\n",
      "\n",
      "(array([   97,   218,   230,   260,   285,   301,   480,   811,  1075,\n",
      "        1108,  1122,  1650,  1656,  2403,  2816,  2827,  2829,  2831,\n",
      "        3286,  3385,  3407,  3520,  3798,  4216,  4303,  4380,  4761,\n",
      "        4876,  5100,  5164,  5191,  5356,  5605,  5812,  6406,  6689,\n",
      "        6918,  7121,  7122,  7149,  7270,  7271,  7697,  7708,  8039,\n",
      "        8149,  8185,  8432,  8979,  9025,  9064,  9400,  9514,  9572,\n",
      "        9620, 10107, 10210, 10518, 10549, 10618], dtype=int64),)\n",
      "(array([   64,    73,    97,   218,   230,   260,   274,   285,   301,\n",
      "         427,   428,   479,   480,   482,   811,   987,  1075,  1108,\n",
      "        1122,  1444,  1515,  1604,  1607,  1608,  1643,  1644,  1650,\n",
      "        1656,  1785,  1797,  1850,  1947,  2095,  2318,  2319,  2403,\n",
      "        2439,  2445,  2486,  2488,  2500,  2551,  2552,  2561,  2562,\n",
      "        2616,  2674,  2685,  2773,  2816,  2817,  2818,  2820,  2825,\n",
      "        2828,  2829,  2831,  2833,  2952,  2997,  3221,  3235,  3286,\n",
      "        3302,  3378,  3385,  3407,  3520,  3528,  3654,  3798,  4011,\n",
      "        4181,  4216,  4296,  4349,  4356,  4380,  4454,  4456,  4700,\n",
      "        4710,  4873,  4875,  4876,  5100,  5161,  5164,  5191,  5246,\n",
      "        5247,  5356,  5812,  5895,  5898,  5900,  6243,  6275,  6312,\n",
      "        6351,  6406,  6593,  6689,  6918,  6919,  7025,  7121,  7122,\n",
      "        7137,  7149,  7151,  7152,  7243,  7267,  7268,  7269,  7270,\n",
      "        7271,  7279,  7562,  7564,  7565,  7695,  7697,  7708,  8039,\n",
      "        8149,  8185,  8285,  8337,  8392,  8432,  8499,  8537,  8538,\n",
      "        8979,  9025,  9037,  9049,  9050,  9051,  9052,  9060,  9064,\n",
      "        9065,  9172,  9173,  9319,  9400,  9514,  9572, 10049, 10107,\n",
      "       10140, 10196, 10210, 10288, 10345, 10349, 10509, 10510, 10518,\n",
      "       10549, 10618], dtype=int64),)\n"
     ]
    }
   ],
   "source": [
    "test_loss, test_acc = model.evaluate(test_data, test_label_ohe)\n",
    "print('test_acc:', test_acc)\n",
    "#previous was: test_acc: 0.9894444346427917\n",
    "\n",
    "pred = model.predict(test_data)\n",
    "pred = np.around(pred) \n",
    "\n",
    "pred_dec = np.dot(pred, np.array([0,1], dtype='float32'))\n",
    "pred_lab = np.dot(test_label_ohe, np.array([0,1], dtype='float32'))\n",
    "\n",
    "print('labelled :', np.where(pred_lab==1)[0].size)  \n",
    "print('predicted :',  np.where(pred_dec==1)[0].size) \n",
    "print('true positive :', np.intersect1d(np.where(pred_lab==1), np.where(pred_dec==1)).shape[0])     \n",
    "print('false positive :', np.intersect1d(np.where(pred_lab==0), np.where(pred_dec==1)).shape[0])     \n",
    "print('false negative :', np.intersect1d(np.where(pred_lab==1), np.where(pred_dec==0)).shape[0]) \n",
    "print('\\n')\n",
    "print(np.where(pred_dec==1))\n",
    "print(np.where(pred_lab==1))\n",
    "\n",
    "write_pdf = True\n",
    "if write_pdf :\n",
    "    pdf = PdfPages('./cnn.pdf')\n",
    "    for evn in np.intersect1d(np.where(pred_lab==1), np.where(pred_dec==1)):\n",
    "        fig = plt.figure()\n",
    "        matrix = plt.pcolormesh(test_data[evn].reshape(cam_side_length,cam_side_length)*renormalisation)\n",
    "        plt.colorbar(matrix)\n",
    "        plt.title('TRUE positive')\n",
    "        pdf.savefig(fig)\n",
    "        plt.close()\n",
    "    for evn in np.intersect1d(np.where(pred_lab==0), np.where(pred_dec==1)):\n",
    "        fig = plt.figure()\n",
    "        matrix = plt.pcolormesh(test_data[evn].reshape(cam_side_length,cam_side_length)*renormalisation)\n",
    "        plt.colorbar(matrix)\n",
    "        plt.title('FALSE positive')\n",
    "        pdf.savefig(fig)\n",
    "        plt.close()\n",
    "    for evn in np.intersect1d(np.where(pred_lab==1), np.where(pred_dec==0)):\n",
    "        fig = plt.figure()\n",
    "        matrix = plt.pcolormesh(test_data[evn].reshape(cam_side_length,cam_side_length)*renormalisation)\n",
    "        plt.colorbar(matrix)\n",
    "        plt.title('FALSE negative')\n",
    "        pdf.savefig(fig)\n",
    "        plt.close()\n",
    "    pdf.close()"
   ]
  },
  {
   "cell_type": "code",
   "execution_count": 8,
   "metadata": {},
   "outputs": [
    {
     "name": "stdout",
     "output_type": "stream",
     "text": [
      "1/1 [==============================] - 0s 48ms/step\n",
      "[[0.5018886  0.49811143]] [[1. 0.]]\n",
      "cam n° : 5356\n"
     ]
    },
    {
     "data": {
      "image/png": "[encoded data removed]",
      "text/plain": [
       "<Figure size 640x480 with 2 Axes>"
      ]
     },
     "metadata": {},
     "output_type": "display_data"
    }
   ],
   "source": [
    "ex = np.where(test_label==1)[0][91]\n",
    "predex = model.predict(test_data[ex].reshape(-1, cam_side_length, cam_side_length, 1))\n",
    "print(predex, np.around(predex))\n",
    "print('cam n° :',ex)\n",
    "\n",
    "cam = plt.pcolormesh(test_data[4303].reshape(cam_side_length, cam_side_length)*renormalisation)\n",
    "plt.colorbar(cam)  "
   ]
  }
 ],
 "metadata": {
  "kernelspec": {
   "display_name": "Python 3",
   "language": "python",
   "name": "python3"
  },
  "language_info": {
   "codemirror_mode": {
    "name": "ipython",
    "version": 3
   },
   "file_extension": ".py",
   "mimetype": "text/x-python",
   "name": "python",
   "nbconvert_exporter": "python",
   "pygments_lexer": "ipython3",
   "version": "3.10.6"
  },
  "orig_nbformat": 4
 },
 "nbformat": 4,
 "nbformat_minor": 2
}
