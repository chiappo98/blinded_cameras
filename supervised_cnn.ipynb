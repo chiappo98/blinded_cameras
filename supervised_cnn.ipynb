{
 "cells": [
  {
   "cell_type": "code",
   "execution_count": 47,
   "metadata": {},
   "outputs": [],
   "source": [
    "import numpy as np \n",
    "from matplotlib import pyplot as plt\n",
    "from matplotlib.backends.backend_pdf import PdfPages\n",
    "import pandas as pd\n",
    "from keras.models import Sequential\n",
    "from keras.layers import Dense, Conv2D, MaxPooling2D, Flatten, Dropout, RandomFlip, RandomRotation, BatchNormalization, SpatialDropout2D\n",
    "from tensorflow.keras.utils import to_categorical\n",
    "from sklearn.preprocessing import RobustScaler\n",
    "from tensorflow.keras.metrics import BinaryCrossentropy as metricBinaryCrossentropy\n",
    "from tensorflow.keras.losses import SparseCategoricalCrossentropy, BinaryCrossentropy\n",
    "from tensorflow import cast, expand_dims, float32\n",
    "from sklearn.metrics import confusion_matrix, f1_score, precision_score, recall_score, roc_auc_score"
   ]
  },
  {
   "cell_type": "code",
   "execution_count": 48,
   "metadata": {},
   "outputs": [
    {
     "name": "stdout",
     "output_type": "stream",
     "text": [
      "Num GPUs Available:  0\n"
     ]
    }
   ],
   "source": [
    "import tensorflow as tf\n",
    "print(\"Num GPUs Available: \", len(tf.config.list_physical_devices('GPU')))"
   ]
  },
  {
   "cell_type": "markdown",
   "metadata": {},
   "source": [
    "#### Import data and labels\n"
   ]
  },
  {
   "cell_type": "code",
   "execution_count": 49,
   "metadata": {},
   "outputs": [],
   "source": [
    "data_path = './blind_cameras_dataset'\n",
    "#neutrino-01 path: '/storage/gpfs_data/neutrino/SAND-LAr/SAND-LAr-OPTICALSIM-PROD/GRAIN/blindcam/data'\n",
    "  \n",
    "with open(data_path+'/simulation.npy', 'rb') as f:    #'+str(sim_num)+'\n",
    "    data_in = np.load(f)\n",
    "with open(data_path+'/inner_ph.npy', 'rb') as g:      #'+str(sim_num)+'\n",
    "    inner_ph_in = np.load(g)\n",
    "### Preprocessing"
   ]
  },
  {
   "cell_type": "markdown",
   "metadata": {},
   "source": [
    "### Preprocessing"
   ]
  },
  {
   "cell_type": "code",
   "execution_count": 50,
   "metadata": {},
   "outputs": [
    {
     "name": "stdout",
     "output_type": "stream",
     "text": [
      "data shape (n_data, n_cam, cam_shape) : (1000, 54, 961)\n",
      "\n",
      "################ process data from root file ################\n",
      "inner photons shape : (54, 1000)\n",
      "labelled blind : 742\n"
     ]
    }
   ],
   "source": [
    "###### parameters #################\n",
    "root_threshold = 10\n",
    "###### fixed parameters ###########\n",
    "n_cam_in_grain = 54\n",
    "cam_side_length = 31\n",
    "renormalisation = 10000\n",
    "###################################\n",
    "\n",
    "data = (data_in).reshape(-1, n_cam_in_grain, cam_side_length**2)\n",
    "print('data shape (n_data, n_cam, cam_shape) :',data.shape)\n",
    "\n",
    "print('\\n' + '################ process data from root file ################') \n",
    "  \n",
    "inner_ph = inner_ph_in.reshape(n_cam_in_grain, -1)    #inner_ph_in.reshape(76,-1)  \n",
    "print('inner photons shape :',inner_ph.shape)\n",
    "  \n",
    "overthr_inner_evn = np.unique( np.where( inner_ph > root_threshold )[1] )\n",
    "label = np.zeros(inner_ph_in.size).reshape(-1, n_cam_in_grain)\n",
    "\n",
    "for evn in overthr_inner_evn:\n",
    "    for cam in np.unique( np.where( inner_ph.T[evn] > root_threshold ) ):\n",
    "        label[evn][cam] = 1\n",
    "print('labelled blind :', np.where(label==1)[0].size)"
   ]
  },
  {
   "cell_type": "markdown",
   "metadata": {},
   "source": [
    "#### Apply RobustScaler"
   ]
  },
  {
   "cell_type": "code",
   "execution_count": 51,
   "metadata": {},
   "outputs": [],
   "source": [
    "# scaler_ = RobustScaler().fit(data_in.reshape(cam_side_length**2,-1))\n",
    "# scaler_data = scaler_.transform(data_in.reshape(cam_side_length**2,-1)).reshape(-1, n_cam_in_grain, cam_side_length**2)"
   ]
  },
  {
   "cell_type": "code",
   "execution_count": 52,
   "metadata": {},
   "outputs": [
    {
     "name": "stderr",
     "output_type": "stream",
     "text": [
      "C:\\Users\\Pc\\AppData\\Local\\Temp\\ipykernel_35852\\4262946079.py:2: RuntimeWarning: invalid value encountered in divide\n",
      "  normalize_data = (data.reshape(-1, cam_side_length**2) / (normalize_.reshape(-1,1)*np.ones((1, cam_side_length**2)))).reshape(-1, n_cam_in_grain, cam_side_length**2)\n"
     ]
    },
    {
     "data": {
      "text/plain": [
       "(1000, 54, 961)"
      ]
     },
     "execution_count": 52,
     "metadata": {},
     "output_type": "execute_result"
    }
   ],
   "source": [
    "normalize_ = np.max(data.reshape(-1, cam_side_length**2), axis = 1)\n",
    "normalize_data = (data.reshape(-1, cam_side_length**2) / (normalize_.reshape(-1,1)*np.ones((1, cam_side_length**2)))).reshape(-1, n_cam_in_grain, cam_side_length**2)\n",
    "normalize_data.shape"
   ]
  },
  {
   "cell_type": "markdown",
   "metadata": {},
   "source": [
    "#### Split into test and training sets"
   ]
  },
  {
   "cell_type": "code",
   "execution_count": 62,
   "metadata": {},
   "outputs": [
    {
     "data": {
      "text/plain": [
       "(800, 54, 961)"
      ]
     },
     "execution_count": 62,
     "metadata": {},
     "output_type": "execute_result"
    }
   ],
   "source": [
    "train_data, test_data = normalize_data[:800], normalize_data[800:]\n",
    "train_label, test_label = label[:800], label[800:]\n",
    "\n",
    "train_data.shape"
   ]
  },
  {
   "cell_type": "code",
   "execution_count": 63,
   "metadata": {},
   "outputs": [
    {
     "data": {
      "text/plain": [
       "(800, 54, 961)"
      ]
     },
     "execution_count": 63,
     "metadata": {},
     "output_type": "execute_result"
    }
   ],
   "source": [
    "train_data.shape"
   ]
  },
  {
   "cell_type": "code",
   "execution_count": 64,
   "metadata": {},
   "outputs": [
    {
     "data": {
      "text/plain": [
       "array([1., 0.], dtype=float32)"
      ]
     },
     "execution_count": 64,
     "metadata": {},
     "output_type": "execute_result"
    }
   ],
   "source": [
    "train_data = train_data.reshape(-1, cam_side_length, cam_side_length, 1)\n",
    "test_data = test_data.reshape(-1, cam_side_length, cam_side_length, 1)\n",
    "\n",
    "train_data = train_data.astype('float32')\n",
    "test_data = test_data.astype('float32')\n",
    "\n",
    "# train_data /= renormalisation\n",
    "# test_data /= renormalisation\n",
    "\n",
    "train_label = train_label.flatten()\n",
    "test_label = test_label.flatten()\n",
    "\n",
    "train_label_ohe = to_categorical(train_label,2)\n",
    "test_label_ohe = to_categorical(test_label,2)\n",
    "\n",
    "test_label_ohe[0]"
   ]
  },
  {
   "cell_type": "markdown",
   "metadata": {},
   "source": [
    "## Data augmentation"
   ]
  },
  {
   "cell_type": "code",
   "execution_count": 65,
   "metadata": {},
   "outputs": [
    {
     "name": "stdout",
     "output_type": "stream",
     "text": [
      "WARNING:tensorflow:Using a while_loop for converting RngReadAndSkip cause there is no registered converter for this op.\n",
      "WARNING:tensorflow:Using a while_loop for converting Bitcast cause there is no registered converter for this op.\n",
      "WARNING:tensorflow:Using a while_loop for converting Bitcast cause there is no registered converter for this op.\n",
      "WARNING:tensorflow:Using a while_loop for converting StatelessRandomUniformV2 cause there is no registered converter for this op.\n",
      "WARNING:tensorflow:Using a while_loop for converting ImageProjectiveTransformV3 cause there is no registered converter for this op.\n",
      "WARNING:tensorflow:Using a while_loop for converting RngReadAndSkip cause there is no registered converter for this op.\n",
      "WARNING:tensorflow:Using a while_loop for converting Bitcast cause there is no registered converter for this op.\n",
      "WARNING:tensorflow:Using a while_loop for converting Bitcast cause there is no registered converter for this op.\n",
      "WARNING:tensorflow:Using a while_loop for converting StatelessRandomUniformV2 cause there is no registered converter for this op.\n",
      "WARNING:tensorflow:Using a while_loop for converting ImageProjectiveTransformV3 cause there is no registered converter for this op.\n",
      "WARNING:tensorflow:Using a while_loop for converting RngReadAndSkip cause there is no registered converter for this op.\n",
      "WARNING:tensorflow:Using a while_loop for converting Bitcast cause there is no registered converter for this op.\n",
      "WARNING:tensorflow:Using a while_loop for converting Bitcast cause there is no registered converter for this op.\n",
      "WARNING:tensorflow:Using a while_loop for converting StatelessRandomUniformV2 cause there is no registered converter for this op.\n",
      "WARNING:tensorflow:Using a while_loop for converting ImageProjectiveTransformV3 cause there is no registered converter for this op.\n",
      "WARNING:tensorflow:Using a while_loop for converting RngReadAndSkip cause there is no registered converter for this op.\n",
      "WARNING:tensorflow:Using a while_loop for converting Bitcast cause there is no registered converter for this op.\n",
      "WARNING:tensorflow:Using a while_loop for converting Bitcast cause there is no registered converter for this op.\n",
      "WARNING:tensorflow:Using a while_loop for converting StatelessRandomUniformV2 cause there is no registered converter for this op.\n",
      "WARNING:tensorflow:Using a while_loop for converting ImageProjectiveTransformV3 cause there is no registered converter for this op.\n",
      "WARNING:tensorflow:Using a while_loop for converting RngReadAndSkip cause there is no registered converter for this op.\n",
      "WARNING:tensorflow:Using a while_loop for converting Bitcast cause there is no registered converter for this op.\n",
      "WARNING:tensorflow:Using a while_loop for converting Bitcast cause there is no registered converter for this op.\n",
      "WARNING:tensorflow:Using a while_loop for converting StatelessRandomUniformV2 cause there is no registered converter for this op.\n",
      "WARNING:tensorflow:Using a while_loop for converting ImageProjectiveTransformV3 cause there is no registered converter for this op.\n",
      "WARNING:tensorflow:Using a while_loop for converting RngReadAndSkip cause there is no registered converter for this op.\n",
      "WARNING:tensorflow:Using a while_loop for converting Bitcast cause there is no registered converter for this op.\n",
      "WARNING:tensorflow:Using a while_loop for converting Bitcast cause there is no registered converter for this op.\n",
      "WARNING:tensorflow:Using a while_loop for converting StatelessRandomUniformV2 cause there is no registered converter for this op.\n",
      "WARNING:tensorflow:Using a while_loop for converting ImageProjectiveTransformV3 cause there is no registered converter for this op.\n",
      "WARNING:tensorflow:Using a while_loop for converting RngReadAndSkip cause there is no registered converter for this op.\n",
      "WARNING:tensorflow:Using a while_loop for converting Bitcast cause there is no registered converter for this op.\n",
      "WARNING:tensorflow:Using a while_loop for converting Bitcast cause there is no registered converter for this op.\n",
      "WARNING:tensorflow:Using a while_loop for converting StatelessRandomUniformV2 cause there is no registered converter for this op.\n",
      "WARNING:tensorflow:Using a while_loop for converting ImageProjectiveTransformV3 cause there is no registered converter for this op.\n",
      "WARNING:tensorflow:Using a while_loop for converting RngReadAndSkip cause there is no registered converter for this op.\n",
      "WARNING:tensorflow:Using a while_loop for converting Bitcast cause there is no registered converter for this op.\n",
      "WARNING:tensorflow:Using a while_loop for converting Bitcast cause there is no registered converter for this op.\n",
      "WARNING:tensorflow:Using a while_loop for converting StatelessRandomUniformV2 cause there is no registered converter for this op.\n",
      "WARNING:tensorflow:Using a while_loop for converting ImageProjectiveTransformV3 cause there is no registered converter for this op.\n",
      "WARNING:tensorflow:Using a while_loop for converting RngReadAndSkip cause there is no registered converter for this op.\n",
      "WARNING:tensorflow:Using a while_loop for converting Bitcast cause there is no registered converter for this op.\n",
      "WARNING:tensorflow:Using a while_loop for converting Bitcast cause there is no registered converter for this op.\n",
      "WARNING:tensorflow:Using a while_loop for converting StatelessRandomUniformV2 cause there is no registered converter for this op.\n",
      "WARNING:tensorflow:Using a while_loop for converting ImageProjectiveTransformV3 cause there is no registered converter for this op.\n",
      "WARNING:tensorflow:Using a while_loop for converting RngReadAndSkip cause there is no registered converter for this op.\n",
      "WARNING:tensorflow:Using a while_loop for converting Bitcast cause there is no registered converter for this op.\n",
      "WARNING:tensorflow:Using a while_loop for converting Bitcast cause there is no registered converter for this op.\n",
      "WARNING:tensorflow:Using a while_loop for converting StatelessRandomUniformV2 cause there is no registered converter for this op.\n",
      "WARNING:tensorflow:Using a while_loop for converting ImageProjectiveTransformV3 cause there is no registered converter for this op.\n"
     ]
    },
    {
     "data": {
      "image/png": "[encoded data removed]",
      "text/plain": [
       "<Figure size 1000x1000 with 9 Axes>"
      ]
     },
     "metadata": {},
     "output_type": "display_data"
    }
   ],
   "source": [
    "data_augmentation = Sequential([\n",
    "  RandomFlip(\"horizontal_and_vertical\"),\n",
    "  RandomRotation(0.2),\n",
    "])\n",
    "\n",
    "# Add the image to a batch.\n",
    "image = cast(expand_dims(test_data[4380], 0), float32)\n",
    "\n",
    "plt.figure(figsize=(10, 10))\n",
    "for i in range(9):\n",
    "  augmented_image = data_augmentation(image)\n",
    "  ax = plt.subplot(3, 3, i + 1)\n",
    "  plt.imshow(augmented_image[0])\n",
    "  plt.axis(\"off\")"
   ]
  },
  {
   "cell_type": "code",
   "execution_count": 69,
   "metadata": {},
   "outputs": [
    {
     "data": {
      "text/plain": [
       "(10800, 31, 31, 1)"
      ]
     },
     "execution_count": 69,
     "metadata": {},
     "output_type": "execute_result"
    }
   ],
   "source": [
    "test_data.shape"
   ]
  },
  {
   "cell_type": "markdown",
   "metadata": {},
   "source": [
    "## CNN model\n"
   ]
  },
  {
   "cell_type": "code",
   "execution_count": 66,
   "metadata": {},
   "outputs": [
    {
     "name": "stdout",
     "output_type": "stream",
     "text": [
      "Epoch 1/20\n",
      "WARNING:tensorflow:Using a while_loop for converting RngReadAndSkip cause there is no registered converter for this op.\n",
      "WARNING:tensorflow:Using a while_loop for converting Bitcast cause there is no registered converter for this op.\n",
      "WARNING:tensorflow:Using a while_loop for converting Bitcast cause there is no registered converter for this op.\n",
      "WARNING:tensorflow:Using a while_loop for converting StatelessRandomUniformV2 cause there is no registered converter for this op.\n",
      "WARNING:tensorflow:Using a while_loop for converting ImageProjectiveTransformV3 cause there is no registered converter for this op.\n",
      "WARNING:tensorflow:Using a while_loop for converting RngReadAndSkip cause there is no registered converter for this op.\n",
      "WARNING:tensorflow:Using a while_loop for converting Bitcast cause there is no registered converter for this op.\n",
      "WARNING:tensorflow:Using a while_loop for converting Bitcast cause there is no registered converter for this op.\n",
      "WARNING:tensorflow:Using a while_loop for converting StatelessRandomUniformV2 cause there is no registered converter for this op.\n",
      "WARNING:tensorflow:Using a while_loop for converting ImageProjectiveTransformV3 cause there is no registered converter for this op.\n",
      "WARNING:tensorflow:Using a while_loop for converting RngReadAndSkip cause there is no registered converter for this op.\n",
      "WARNING:tensorflow:Using a while_loop for converting Bitcast cause there is no registered converter for this op.\n",
      "WARNING:tensorflow:Using a while_loop for converting Bitcast cause there is no registered converter for this op.\n",
      "WARNING:tensorflow:Using a while_loop for converting StatelessRandomUniformV2 cause there is no registered converter for this op.\n",
      "WARNING:tensorflow:Using a while_loop for converting ImageProjectiveTransformV3 cause there is no registered converter for this op.\n"
     ]
    },
    {
     "name": "stderr",
     "output_type": "stream",
     "text": [
      "c:\\Users\\Pc\\AppData\\Local\\Programs\\Python\\Python310\\lib\\site-packages\\keras\\backend.py:5673: UserWarning: \"`binary_crossentropy` received `from_logits=True`, but the `output` argument was produced by a Sigmoid activation and thus does not represent logits. Was this intended?\n",
      "  output, from_logits = _get_logits(\n"
     ]
    },
    {
     "name": "stdout",
     "output_type": "stream",
     "text": [
      "WARNING:tensorflow:Using a while_loop for converting RngReadAndSkip cause there is no registered converter for this op.\n",
      "WARNING:tensorflow:Using a while_loop for converting Bitcast cause there is no registered converter for this op.\n",
      "WARNING:tensorflow:Using a while_loop for converting Bitcast cause there is no registered converter for this op.\n",
      "WARNING:tensorflow:Using a while_loop for converting StatelessRandomUniformV2 cause there is no registered converter for this op.\n",
      "WARNING:tensorflow:Using a while_loop for converting ImageProjectiveTransformV3 cause there is no registered converter for this op.\n",
      "338/338 [==============================] - 37s 89ms/step - loss: nan - binary_accuracy: 0.5007 - val_loss: nan - val_binary_accuracy: 0.5000\n",
      "Epoch 2/20\n",
      " 67/338 [====>.........................] - ETA: 22s - loss: nan - binary_accuracy: 0.5000"
     ]
    },
    {
     "ename": "KeyboardInterrupt",
     "evalue": "",
     "output_type": "error",
     "traceback": [
      "\u001b[1;31m---------------------------------------------------------------------------\u001b[0m",
      "\u001b[1;31mKeyboardInterrupt\u001b[0m                         Traceback (most recent call last)",
      "\u001b[1;32mc:\\Users\\Pc\\OneDrive - Alma Mater Studiorum Università di Bologna\\PhD\\ML\\blinded_cameras\\supervised_cnn.ipynb Cella 17\u001b[0m in \u001b[0;36m3\n\u001b[0;32m     <a href='vscode-notebook-cell:/c%3A/Users/Pc/OneDrive%20-%20Alma%20Mater%20Studiorum%20Universit%C3%A0%20di%20Bologna/PhD/ML/blinded_cameras/supervised_cnn.ipynb#X21sZmlsZQ%3D%3D?line=23'>24</a>\u001b[0m model\u001b[39m.\u001b[39mcompile(optimizer\u001b[39m=\u001b[39m\u001b[39m'\u001b[39m\u001b[39mNadam\u001b[39m\u001b[39m'\u001b[39m, loss\u001b[39m=\u001b[39mBinaryCrossentropy(from_logits\u001b[39m=\u001b[39m\u001b[39mTrue\u001b[39;00m), metrics\u001b[39m=\u001b[39m[\u001b[39m'\u001b[39m\u001b[39mbinary_accuracy\u001b[39m\u001b[39m'\u001b[39m])  \u001b[39m#SparseCategoricalCrossentropy(from_logits=True) BinaryCrossentropy(from_logits=True)\u001b[39;00m\n\u001b[0;32m     <a href='vscode-notebook-cell:/c%3A/Users/Pc/OneDrive%20-%20Alma%20Mater%20Studiorum%20Universit%C3%A0%20di%20Bologna/PhD/ML/blinded_cameras/supervised_cnn.ipynb#X21sZmlsZQ%3D%3D?line=24'>25</a>\u001b[0m                                                                                         \u001b[39m#'binary_crossentropy''categorical_crossentropy'\u001b[39;00m\n\u001b[0;32m     <a href='vscode-notebook-cell:/c%3A/Users/Pc/OneDrive%20-%20Alma%20Mater%20Studiorum%20Universit%C3%A0%20di%20Bologna/PhD/ML/blinded_cameras/supervised_cnn.ipynb#X21sZmlsZQ%3D%3D?line=25'>26</a>\u001b[0m                                                                                         \u001b[39m#metrics=[metricBinaryCrossentropy()] 'binary_accuracy'\u001b[39;00m\n\u001b[0;32m     <a href='vscode-notebook-cell:/c%3A/Users/Pc/OneDrive%20-%20Alma%20Mater%20Studiorum%20Universit%C3%A0%20di%20Bologna/PhD/ML/blinded_cameras/supervised_cnn.ipynb#X21sZmlsZQ%3D%3D?line=26'>27</a>\u001b[0m \u001b[39m#model.summary()\u001b[39;00m\n\u001b[0;32m     <a href='vscode-notebook-cell:/c%3A/Users/Pc/OneDrive%20-%20Alma%20Mater%20Studiorum%20Universit%C3%A0%20di%20Bologna/PhD/ML/blinded_cameras/supervised_cnn.ipynb#X21sZmlsZQ%3D%3D?line=27'>28</a>\u001b[0m \n\u001b[0;32m     <a href='vscode-notebook-cell:/c%3A/Users/Pc/OneDrive%20-%20Alma%20Mater%20Studiorum%20Universit%C3%A0%20di%20Bologna/PhD/ML/blinded_cameras/supervised_cnn.ipynb#X21sZmlsZQ%3D%3D?line=28'>29</a>\u001b[0m \u001b[39m#train the model\u001b[39;00m\n\u001b[1;32m---> <a href='vscode-notebook-cell:/c%3A/Users/Pc/OneDrive%20-%20Alma%20Mater%20Studiorum%20Universit%C3%A0%20di%20Bologna/PhD/ML/blinded_cameras/supervised_cnn.ipynb#X21sZmlsZQ%3D%3D?line=29'>30</a>\u001b[0m history_callback \u001b[39m=\u001b[39m model\u001b[39m.\u001b[39;49mfit(train_data, train_label_ohe, batch_size\u001b[39m=\u001b[39;49m\u001b[39m128\u001b[39;49m, validation_data\u001b[39m=\u001b[39;49m(test_data, test_label_ohe), epochs\u001b[39m=\u001b[39;49m\u001b[39m20\u001b[39;49m) \u001b[39m#_ohe\u001b[39;00m\n\u001b[0;32m     <a href='vscode-notebook-cell:/c%3A/Users/Pc/OneDrive%20-%20Alma%20Mater%20Studiorum%20Universit%C3%A0%20di%20Bologna/PhD/ML/blinded_cameras/supervised_cnn.ipynb#X21sZmlsZQ%3D%3D?line=30'>31</a>\u001b[0m \u001b[39m#pd.DataFrame(history_callback.history).plot(logy=True)\u001b[39;00m\n",
      "File \u001b[1;32mc:\\Users\\Pc\\AppData\\Local\\Programs\\Python\\Python310\\lib\\site-packages\\keras\\utils\\traceback_utils.py:65\u001b[0m, in \u001b[0;36mfilter_traceback.<locals>.error_handler\u001b[1;34m(*args, **kwargs)\u001b[0m\n\u001b[0;32m     63\u001b[0m filtered_tb \u001b[39m=\u001b[39m \u001b[39mNone\u001b[39;00m\n\u001b[0;32m     64\u001b[0m \u001b[39mtry\u001b[39;00m:\n\u001b[1;32m---> 65\u001b[0m     \u001b[39mreturn\u001b[39;00m fn(\u001b[39m*\u001b[39margs, \u001b[39m*\u001b[39m\u001b[39m*\u001b[39mkwargs)\n\u001b[0;32m     66\u001b[0m \u001b[39mexcept\u001b[39;00m \u001b[39mException\u001b[39;00m \u001b[39mas\u001b[39;00m e:\n\u001b[0;32m     67\u001b[0m     filtered_tb \u001b[39m=\u001b[39m _process_traceback_frames(e\u001b[39m.\u001b[39m__traceback__)\n",
      "File \u001b[1;32mc:\\Users\\Pc\\AppData\\Local\\Programs\\Python\\Python310\\lib\\site-packages\\keras\\engine\\training.py:1564\u001b[0m, in \u001b[0;36mModel.fit\u001b[1;34m(self, x, y, batch_size, epochs, verbose, callbacks, validation_split, validation_data, shuffle, class_weight, sample_weight, initial_epoch, steps_per_epoch, validation_steps, validation_batch_size, validation_freq, max_queue_size, workers, use_multiprocessing)\u001b[0m\n\u001b[0;32m   1556\u001b[0m \u001b[39mwith\u001b[39;00m tf\u001b[39m.\u001b[39mprofiler\u001b[39m.\u001b[39mexperimental\u001b[39m.\u001b[39mTrace(\n\u001b[0;32m   1557\u001b[0m     \u001b[39m\"\u001b[39m\u001b[39mtrain\u001b[39m\u001b[39m\"\u001b[39m,\n\u001b[0;32m   1558\u001b[0m     epoch_num\u001b[39m=\u001b[39mepoch,\n\u001b[1;32m   (...)\u001b[0m\n\u001b[0;32m   1561\u001b[0m     _r\u001b[39m=\u001b[39m\u001b[39m1\u001b[39m,\n\u001b[0;32m   1562\u001b[0m ):\n\u001b[0;32m   1563\u001b[0m     callbacks\u001b[39m.\u001b[39mon_train_batch_begin(step)\n\u001b[1;32m-> 1564\u001b[0m     tmp_logs \u001b[39m=\u001b[39m \u001b[39mself\u001b[39;49m\u001b[39m.\u001b[39;49mtrain_function(iterator)\n\u001b[0;32m   1565\u001b[0m     \u001b[39mif\u001b[39;00m data_handler\u001b[39m.\u001b[39mshould_sync:\n\u001b[0;32m   1566\u001b[0m         context\u001b[39m.\u001b[39masync_wait()\n",
      "File \u001b[1;32mc:\\Users\\Pc\\AppData\\Local\\Programs\\Python\\Python310\\lib\\site-packages\\tensorflow\\python\\util\\traceback_utils.py:150\u001b[0m, in \u001b[0;36mfilter_traceback.<locals>.error_handler\u001b[1;34m(*args, **kwargs)\u001b[0m\n\u001b[0;32m    148\u001b[0m filtered_tb \u001b[39m=\u001b[39m \u001b[39mNone\u001b[39;00m\n\u001b[0;32m    149\u001b[0m \u001b[39mtry\u001b[39;00m:\n\u001b[1;32m--> 150\u001b[0m   \u001b[39mreturn\u001b[39;00m fn(\u001b[39m*\u001b[39margs, \u001b[39m*\u001b[39m\u001b[39m*\u001b[39mkwargs)\n\u001b[0;32m    151\u001b[0m \u001b[39mexcept\u001b[39;00m \u001b[39mException\u001b[39;00m \u001b[39mas\u001b[39;00m e:\n\u001b[0;32m    152\u001b[0m   filtered_tb \u001b[39m=\u001b[39m _process_traceback_frames(e\u001b[39m.\u001b[39m__traceback__)\n",
      "File \u001b[1;32mc:\\Users\\Pc\\AppData\\Local\\Programs\\Python\\Python310\\lib\\site-packages\\tensorflow\\python\\eager\\def_function.py:915\u001b[0m, in \u001b[0;36mFunction.__call__\u001b[1;34m(self, *args, **kwds)\u001b[0m\n\u001b[0;32m    912\u001b[0m compiler \u001b[39m=\u001b[39m \u001b[39m\"\u001b[39m\u001b[39mxla\u001b[39m\u001b[39m\"\u001b[39m \u001b[39mif\u001b[39;00m \u001b[39mself\u001b[39m\u001b[39m.\u001b[39m_jit_compile \u001b[39melse\u001b[39;00m \u001b[39m\"\u001b[39m\u001b[39mnonXla\u001b[39m\u001b[39m\"\u001b[39m\n\u001b[0;32m    914\u001b[0m \u001b[39mwith\u001b[39;00m OptionalXlaContext(\u001b[39mself\u001b[39m\u001b[39m.\u001b[39m_jit_compile):\n\u001b[1;32m--> 915\u001b[0m   result \u001b[39m=\u001b[39m \u001b[39mself\u001b[39m\u001b[39m.\u001b[39m_call(\u001b[39m*\u001b[39margs, \u001b[39m*\u001b[39m\u001b[39m*\u001b[39mkwds)\n\u001b[0;32m    917\u001b[0m new_tracing_count \u001b[39m=\u001b[39m \u001b[39mself\u001b[39m\u001b[39m.\u001b[39mexperimental_get_tracing_count()\n\u001b[0;32m    918\u001b[0m without_tracing \u001b[39m=\u001b[39m (tracing_count \u001b[39m==\u001b[39m new_tracing_count)\n",
      "File \u001b[1;32mc:\\Users\\Pc\\AppData\\Local\\Programs\\Python\\Python310\\lib\\site-packages\\tensorflow\\python\\eager\\def_function.py:947\u001b[0m, in \u001b[0;36mFunction._call\u001b[1;34m(self, *args, **kwds)\u001b[0m\n\u001b[0;32m    944\u001b[0m   \u001b[39mself\u001b[39m\u001b[39m.\u001b[39m_lock\u001b[39m.\u001b[39mrelease()\n\u001b[0;32m    945\u001b[0m   \u001b[39m# In this case we have created variables on the first call, so we run the\u001b[39;00m\n\u001b[0;32m    946\u001b[0m   \u001b[39m# defunned version which is guaranteed to never create variables.\u001b[39;00m\n\u001b[1;32m--> 947\u001b[0m   \u001b[39mreturn\u001b[39;00m \u001b[39mself\u001b[39m\u001b[39m.\u001b[39m_stateless_fn(\u001b[39m*\u001b[39margs, \u001b[39m*\u001b[39m\u001b[39m*\u001b[39mkwds)  \u001b[39m# pylint: disable=not-callable\u001b[39;00m\n\u001b[0;32m    948\u001b[0m \u001b[39melif\u001b[39;00m \u001b[39mself\u001b[39m\u001b[39m.\u001b[39m_stateful_fn \u001b[39mis\u001b[39;00m \u001b[39mnot\u001b[39;00m \u001b[39mNone\u001b[39;00m:\n\u001b[0;32m    949\u001b[0m   \u001b[39m# Release the lock early so that multiple threads can perform the call\u001b[39;00m\n\u001b[0;32m    950\u001b[0m   \u001b[39m# in parallel.\u001b[39;00m\n\u001b[0;32m    951\u001b[0m   \u001b[39mself\u001b[39m\u001b[39m.\u001b[39m_lock\u001b[39m.\u001b[39mrelease()\n",
      "File \u001b[1;32mc:\\Users\\Pc\\AppData\\Local\\Programs\\Python\\Python310\\lib\\site-packages\\tensorflow\\python\\eager\\function.py:2496\u001b[0m, in \u001b[0;36mFunction.__call__\u001b[1;34m(self, *args, **kwargs)\u001b[0m\n\u001b[0;32m   2493\u001b[0m \u001b[39mwith\u001b[39;00m \u001b[39mself\u001b[39m\u001b[39m.\u001b[39m_lock:\n\u001b[0;32m   2494\u001b[0m   (graph_function,\n\u001b[0;32m   2495\u001b[0m    filtered_flat_args) \u001b[39m=\u001b[39m \u001b[39mself\u001b[39m\u001b[39m.\u001b[39m_maybe_define_function(args, kwargs)\n\u001b[1;32m-> 2496\u001b[0m \u001b[39mreturn\u001b[39;00m graph_function\u001b[39m.\u001b[39;49m_call_flat(\n\u001b[0;32m   2497\u001b[0m     filtered_flat_args, captured_inputs\u001b[39m=\u001b[39;49mgraph_function\u001b[39m.\u001b[39;49mcaptured_inputs)\n",
      "File \u001b[1;32mc:\\Users\\Pc\\AppData\\Local\\Programs\\Python\\Python310\\lib\\site-packages\\tensorflow\\python\\eager\\function.py:1862\u001b[0m, in \u001b[0;36mConcreteFunction._call_flat\u001b[1;34m(self, args, captured_inputs, cancellation_manager)\u001b[0m\n\u001b[0;32m   1858\u001b[0m possible_gradient_type \u001b[39m=\u001b[39m gradients_util\u001b[39m.\u001b[39mPossibleTapeGradientTypes(args)\n\u001b[0;32m   1859\u001b[0m \u001b[39mif\u001b[39;00m (possible_gradient_type \u001b[39m==\u001b[39m gradients_util\u001b[39m.\u001b[39mPOSSIBLE_GRADIENT_TYPES_NONE\n\u001b[0;32m   1860\u001b[0m     \u001b[39mand\u001b[39;00m executing_eagerly):\n\u001b[0;32m   1861\u001b[0m   \u001b[39m# No tape is watching; skip to running the function.\u001b[39;00m\n\u001b[1;32m-> 1862\u001b[0m   \u001b[39mreturn\u001b[39;00m \u001b[39mself\u001b[39m\u001b[39m.\u001b[39m_build_call_outputs(\u001b[39mself\u001b[39;49m\u001b[39m.\u001b[39;49m_inference_function\u001b[39m.\u001b[39;49mcall(\n\u001b[0;32m   1863\u001b[0m       ctx, args, cancellation_manager\u001b[39m=\u001b[39;49mcancellation_manager))\n\u001b[0;32m   1864\u001b[0m forward_backward \u001b[39m=\u001b[39m \u001b[39mself\u001b[39m\u001b[39m.\u001b[39m_select_forward_and_backward_functions(\n\u001b[0;32m   1865\u001b[0m     args,\n\u001b[0;32m   1866\u001b[0m     possible_gradient_type,\n\u001b[0;32m   1867\u001b[0m     executing_eagerly)\n\u001b[0;32m   1868\u001b[0m forward_function, args_with_tangents \u001b[39m=\u001b[39m forward_backward\u001b[39m.\u001b[39mforward()\n",
      "File \u001b[1;32mc:\\Users\\Pc\\AppData\\Local\\Programs\\Python\\Python310\\lib\\site-packages\\tensorflow\\python\\eager\\function.py:499\u001b[0m, in \u001b[0;36m_EagerDefinedFunction.call\u001b[1;34m(self, ctx, args, cancellation_manager)\u001b[0m\n\u001b[0;32m    497\u001b[0m \u001b[39mwith\u001b[39;00m _InterpolateFunctionError(\u001b[39mself\u001b[39m):\n\u001b[0;32m    498\u001b[0m   \u001b[39mif\u001b[39;00m cancellation_manager \u001b[39mis\u001b[39;00m \u001b[39mNone\u001b[39;00m:\n\u001b[1;32m--> 499\u001b[0m     outputs \u001b[39m=\u001b[39m execute\u001b[39m.\u001b[39;49mexecute(\n\u001b[0;32m    500\u001b[0m         \u001b[39mstr\u001b[39;49m(\u001b[39mself\u001b[39;49m\u001b[39m.\u001b[39;49msignature\u001b[39m.\u001b[39;49mname),\n\u001b[0;32m    501\u001b[0m         num_outputs\u001b[39m=\u001b[39;49m\u001b[39mself\u001b[39;49m\u001b[39m.\u001b[39;49m_num_outputs,\n\u001b[0;32m    502\u001b[0m         inputs\u001b[39m=\u001b[39;49margs,\n\u001b[0;32m    503\u001b[0m         attrs\u001b[39m=\u001b[39;49mattrs,\n\u001b[0;32m    504\u001b[0m         ctx\u001b[39m=\u001b[39;49mctx)\n\u001b[0;32m    505\u001b[0m   \u001b[39melse\u001b[39;00m:\n\u001b[0;32m    506\u001b[0m     outputs \u001b[39m=\u001b[39m execute\u001b[39m.\u001b[39mexecute_with_cancellation(\n\u001b[0;32m    507\u001b[0m         \u001b[39mstr\u001b[39m(\u001b[39mself\u001b[39m\u001b[39m.\u001b[39msignature\u001b[39m.\u001b[39mname),\n\u001b[0;32m    508\u001b[0m         num_outputs\u001b[39m=\u001b[39m\u001b[39mself\u001b[39m\u001b[39m.\u001b[39m_num_outputs,\n\u001b[1;32m   (...)\u001b[0m\n\u001b[0;32m    511\u001b[0m         ctx\u001b[39m=\u001b[39mctx,\n\u001b[0;32m    512\u001b[0m         cancellation_manager\u001b[39m=\u001b[39mcancellation_manager)\n",
      "File \u001b[1;32mc:\\Users\\Pc\\AppData\\Local\\Programs\\Python\\Python310\\lib\\site-packages\\tensorflow\\python\\eager\\execute.py:54\u001b[0m, in \u001b[0;36mquick_execute\u001b[1;34m(op_name, num_outputs, inputs, attrs, ctx, name)\u001b[0m\n\u001b[0;32m     52\u001b[0m \u001b[39mtry\u001b[39;00m:\n\u001b[0;32m     53\u001b[0m   ctx\u001b[39m.\u001b[39mensure_initialized()\n\u001b[1;32m---> 54\u001b[0m   tensors \u001b[39m=\u001b[39m pywrap_tfe\u001b[39m.\u001b[39;49mTFE_Py_Execute(ctx\u001b[39m.\u001b[39;49m_handle, device_name, op_name,\n\u001b[0;32m     55\u001b[0m                                       inputs, attrs, num_outputs)\n\u001b[0;32m     56\u001b[0m \u001b[39mexcept\u001b[39;00m core\u001b[39m.\u001b[39m_NotOkStatusException \u001b[39mas\u001b[39;00m e:\n\u001b[0;32m     57\u001b[0m   \u001b[39mif\u001b[39;00m name \u001b[39mis\u001b[39;00m \u001b[39mnot\u001b[39;00m \u001b[39mNone\u001b[39;00m:\n",
      "\u001b[1;31mKeyboardInterrupt\u001b[0m: "
     ]
    }
   ],
   "source": [
    "#create model\n",
    "model = Sequential()\n",
    "#add model layers\n",
    "model.add(data_augmentation)\n",
    "model.add(Conv2D(32, kernel_size=3, activation='relu', input_shape=(cam_side_length,cam_side_length,1)))\n",
    "#model.add(Conv2D(32, kernel_size=3, activation='relu'))\n",
    "model.add(MaxPooling2D(pool_size=(2,2), strides=(2,2)))\n",
    "#model.add(Dropout(0.3))              \n",
    "model.add(Conv2D(64, kernel_size=3, activation='relu'))\n",
    "model.add(Conv2D(64, kernel_size=3, activation='relu'))\n",
    "#model.add(Conv2D(64, kernel_size=3, activation='relu'))\n",
    "model.add(MaxPooling2D(pool_size=(2,2), strides=(2,2)))    \n",
    "#model.add(Conv2D(128, kernel_size=3, activation='relu'))    #eliminate?\n",
    "#model.add(Conv2D(128, kernel_size=3, activation='relu'))\n",
    "#model.add(MaxPooling2D(pool_size=(2,2), strides=(2,2)))     #eliminate?\n",
    "model.add(Dropout(0.5))\n",
    "model.add(Flatten())\n",
    "model.add(Dense(128, activation='relu'))\n",
    "model.add(Dense(64, activation='relu'))\n",
    "#model.add(BatchNormalization())\n",
    "model.add(Dense(2, activation='sigmoid'))  #softmax\n",
    "\n",
    "#compile model using accuracy to measure model performance\n",
    "model.compile(optimizer='Nadam', loss=BinaryCrossentropy(from_logits=True), metrics=['binary_accuracy'])  #SparseCategoricalCrossentropy(from_logits=True) BinaryCrossentropy(from_logits=True)\n",
    "                                                                                        #'binary_crossentropy''categorical_crossentropy'\n",
    "                                                                                        #metrics=[metricBinaryCrossentropy()] 'binary_accuracy'\n",
    "#model.summary()\n",
    "\n",
    "#train the model\n",
    "history_callback = model.fit(train_data, train_label_ohe, batch_size=128, validation_data=(test_data, test_label_ohe), epochs=20) #_ohe\n",
    "#pd.DataFrame(history_callback.history).plot(logy=True)"
   ]
  },
  {
   "cell_type": "code",
   "execution_count": null,
   "metadata": {},
   "outputs": [
    {
     "data": {
      "text/plain": [
       "<matplotlib.legend.Legend at 0x2195cc984c0>"
      ]
     },
     "execution_count": 26,
     "metadata": {},
     "output_type": "execute_result"
    },
    {
     "data": {
      "image/png": "[encoded data removed]",
      "text/plain": [
       "<Figure size 640x480 with 2 Axes>"
      ]
     },
     "metadata": {},
     "output_type": "display_data"
    }
   ],
   "source": [
    "fig, ax = plt.subplots(2,1)\n",
    "ax[0].plot(history_callback.history['binary_accuracy'], label='binary_accuracy')\n",
    "ax[0].plot(history_callback.history['val_binary_accuracy'], label='val_binary_accuracy')\n",
    "ax[0].set_xlabel('epoch')\n",
    "ax[0].legend()\n",
    "\n",
    "ax[1].plot(history_callback.history['loss'], label='loss')\n",
    "ax[1].plot(history_callback.history['val_loss'], label='val_loss')\n",
    "ax[1].set_xlabel('epoch')\n",
    "ax[1].legend()"
   ]
  },
  {
   "cell_type": "code",
   "execution_count": null,
   "metadata": {},
   "outputs": [
    {
     "name": "stdout",
     "output_type": "stream",
     "text": [
      "338/338 [==============================] - 2s 5ms/step - loss: 0.0432 - binary_accuracy: 0.9903\n",
      "test_acc: 0.9902777671813965\n",
      "338/338 [==============================] - 2s 5ms/step\n",
      "labelled : 164\n",
      "predicted : 64\n",
      "true positive : 62\n",
      "false positive : 2\n",
      "false negative : 102\n",
      "\n",
      "\n",
      "confusion matrix :\n",
      "[[10634     2]\n",
      " [  102    62]]\n",
      "precision : 0.96875\n",
      "recall : 0.3780487804878049\n",
      "f1 score : 0.543859649122807\n",
      "roc score : 0.6889303699355157\n"
     ]
    }
   ],
   "source": [
    "test_loss, test_acc = model.evaluate(test_data, test_label_ohe) #ohe?\n",
    "print('test_acc:', test_acc)\n",
    "\n",
    "pred = model.predict(test_data)\n",
    "pred = np.around(pred) \n",
    "\n",
    "pred_dec = np.dot(pred, np.array([0,1], dtype='float32'))\n",
    "pred_lab = np.dot(test_label_ohe, np.array([0,1], dtype='float32'))\n",
    "cm = confusion_matrix(pred_lab, pred_dec)\n",
    "prec = precision_score(pred_lab, pred_dec)\n",
    "reca = recall_score(pred_lab, pred_dec)\n",
    "f1 = f1_score(pred_lab, pred_dec)\n",
    "roc = roc_auc_score(pred_lab, pred_dec)\n",
    "\n",
    "print('labelled :', np.where(pred_lab==1)[0].size)  \n",
    "print('predicted :',  np.where(pred_dec==1)[0].size) \n",
    "print('true positive :', np.intersect1d(np.where(pred_lab==1), np.where(pred_dec==1)).shape[0])     \n",
    "print('false positive :', np.intersect1d(np.where(pred_lab==0), np.where(pred_dec==1)).shape[0])     \n",
    "print('false negative :', np.intersect1d(np.where(pred_lab==1), np.where(pred_dec==0)).shape[0]) \n",
    "print('\\n')\n",
    "print('confusion matrix :')\n",
    "print(cm)\n",
    "print('precision :', prec)\n",
    "print('recall :', reca)\n",
    "print('f1 score :', f1)\n",
    "print('roc score :', roc)\n",
    "#\n",
    "#print(np.where(pred_dec==1))\n",
    "#print(np.where(pred_lab==1))\n",
    "\n",
    "write_pdf = False\n",
    "if write_pdf :\n",
    "    pdf = PdfPages('./cnn.pdf')\n",
    "    for evn in np.intersect1d(np.where(pred_lab==1), np.where(pred_dec==1)):\n",
    "        fig = plt.figure()\n",
    "        matrix = plt.pcolormesh(test_data[evn].reshape(cam_side_length,cam_side_length)*renormalisation)\n",
    "        plt.colorbar(matrix)\n",
    "        plt.title('TRUE positive')\n",
    "        pdf.savefig(fig)\n",
    "        plt.close()\n",
    "    for evn in np.intersect1d(np.where(pred_lab==0), np.where(pred_dec==1)):\n",
    "        fig = plt.figure()\n",
    "        matrix = plt.pcolormesh(test_data[evn].reshape(cam_side_length,cam_side_length)*renormalisation)\n",
    "        plt.colorbar(matrix)\n",
    "        plt.title('FALSE positive')\n",
    "        pdf.savefig(fig)\n",
    "        plt.close()\n",
    "    for evn in np.intersect1d(np.where(pred_lab==1), np.where(pred_dec==0)):\n",
    "        fig = plt.figure()\n",
    "        matrix = plt.pcolormesh(test_data[evn].reshape(cam_side_length,cam_side_length)*renormalisation)\n",
    "        plt.colorbar(matrix)\n",
    "        plt.title('FALSE negative')\n",
    "        pdf.savefig(fig)\n",
    "        plt.close()\n",
    "    pdf.close()"
   ]
  },
  {
   "cell_type": "code",
   "execution_count": null,
   "metadata": {},
   "outputs": [],
   "source": [
    "save_model = False\n",
    "if save_model:\n",
    "    model_json = model.to_json()\n",
    "    with open('model_highRoc.json', 'w') as json_file:\n",
    "        json_file.write(model_json)\n",
    "    model.save_weights('model_highRoc.h5')"
   ]
  },
  {
   "cell_type": "code",
   "execution_count": null,
   "metadata": {},
   "outputs": [],
   "source": [
    "# 20 epochs - layers 32 64 128\n",
    "# previous was:  test_acc: 0.9894444346427917\n",
    "# predicted : 60\n",
    "# true positive : 55\n",
    "\n",
    "# 40 epochs - layers 32 64 128\n",
    "# test_acc: 0.9893518686294556\n",
    "# predicted : 69\n",
    "# true positive : 59\n",
    "\n",
    "# 20 epochs - layers 64 128 256\n",
    "# test_acc: 0.9888888597488403\n",
    "# predicted : 54\n",
    "# true positive : 49\n",
    "\n",
    "# 20 epochs - layers 31 93 186\n",
    "# test_acc: 0.9888888597488403\n",
    "# predicted : 72\n",
    "# true positive : 58\n",
    "\n",
    "# 20 epochs - layers 32 64 128\n",
    "# test_acc: 0.9893518686294556\n",
    "# predicted : 63\n",
    "# true positive : 56\n",
    "\n",
    "# 20 epochs - layers 32 64 128 - Dropout 0.3\n",
    "# test_acc: 0.9889814853668213\n",
    "# predicted : 57\n",
    "# true positive : 51\n",
    "\n",
    "# 30 epochs - layers 32 64 128 - Dropout 0.3\n",
    "# test_acc: 0.9887962937355042\n",
    "# predicted : 57\n",
    "# true positive : 50\n",
    "\n",
    "# 40 epochs - layers 32 64 128 - Dropout 0.3\n",
    "# test_acc: 0.9892592430114746\n",
    "# predicted : 58\n",
    "# true positive : 53\n",
    "\n",
    "# 50 epochs - layers 32 64 128 - Dropout 0.3\n",
    "# test_acc: 0.9896296262741089\n",
    "# predicted : 64\n",
    "# true positive : 58\n",
    "\n",
    "# 70 epochs - layers 32 64 128 - Dropout 0.3 - loss='categorical_crossentropy'\n",
    "# test_acc: 0.9900000095367432              # probably starts overfitting\n",
    "# predicted : 64\n",
    "# true positive : 60\n",
    "\n",
    "# 70 epochs - layers 32 64 128 - Dropout 0.3 - loss=SparseCategoricalCrossentropy(from_logits=True)\n",
    "# test_acc: 0.9902777671813965              \n",
    "# predicted : 69\n",
    "# true positive : 64\n",
    "# subsequent data augmentation\n",
    "# test_acc: 0.9894444346427917              \n",
    "# predicted : 62\n",
    "# true positive : 56\n",
    "\n",
    "# 20 epochs - layers 32 64 128 - Dropout 0.3 - loss=SparseCategoricalCrossentropy(from_logits=True) - DataAugmentation\n",
    "# test_acc: 0.988703727722168\n",
    "# predicted : 52\n",
    "# true positive : 47\n",
    "\n",
    "# 40 epochs - layers 32 64 128 - Dropout 0.3 - loss=SparseCategoricalCrossentropy(from_logits=True) - DataAugmentation\n",
    "# test_acc: 0.9894444346427917\n",
    "# predicted : 56\n",
    "# true positive : 53\n",
    "# precision : 0.9464285714285714\n",
    "# recall : 0.3231707317073171\n",
    "# f1 score : 0.4818181818181818\n",
    "\n",
    "# 40 epochs - layers 32 64 128 - Dropout 0.3 - loss=SparseCategoricalCrossentropy(from_logits=True) - DataAugmentation\n",
    "# test_acc: 0.9889814853668213\n",
    "# predicted : 49\n",
    "# true positive : 47\n",
    "# precision : 0.9591836734693877\n",
    "# recall : 0.2865853658536585\n",
    "# f1 score : 0.44131455399061026\n",
    "# roc score : 0.6431986626184426\n",
    "\n",
    "# 70 epochs - layers 32 64 128 - Dropout 0.3 - loss=SparseCategoricalCrossentropy(from_logits=True) - DataAugmentation\n",
    "# test_acc: 0.9887962937355042              \n",
    "# predicted : 47\n",
    "# true positive : 45\n",
    "# precision : 0.9574468085106383\n",
    "# recall : 0.27439024390243905\n",
    "# f1 score : 0.42654028436018954\n",
    "# roc score : 0.6371011016428328\n",
    "\n",
    "# 20 epochs - layers 32 64 128 - Dropout 0.3 - loss=SparseCategoricalCrossentropy(from_logits=True) - DataAugmentation\n",
    "# test_acc: 0.9885185360908508\n",
    "# predicted : 48\n",
    "# true positive : 44\n",
    "# precision : 0.9166666666666666\n",
    "# recall : 0.2682926829268293\n",
    "# f1 score : 0.4150943396226415\n",
    "# roc score : 0.6339583008466414\n",
    "\n",
    "# 20 epochs - layers 32 64 128 - Dropout 0.3 - loss='categorical_crossentropy' - DataAugmentation\n",
    "# test_acc: 0.9891666769981384\n",
    "# predicted : 49\n",
    "# true positive : 48\n",
    "# precision : 0.9795918367346939\n",
    "# recall : 0.2926829268292683\n",
    "# f1 score : 0.45070422535211263\n",
    "# roc score : 0.6462944532604409\n",
    "\n",
    "# 20 epochs - layers 32 64 128 - Dropout 0.3 0.5 - loss='categorical_crossentropy' - DataAugmentation\n",
    "# test_acc: 0.988611102104187\n",
    "# predicted : 49\n",
    "# true positive : 45\n",
    "# precision : 0.9183673469387755\n",
    "# recall : 0.27439024390243905\n",
    "# f1 score : 0.4225352112676057\n",
    "# roc score : 0.6370070813344463\n",
    "\n",
    "# 20 epochs - layers 32 64 128 - Dropout 0.3 0.3 - loss='categorical_crossentropy' - DataAugmentation - model.add(Dense(64, activation='relu'))\n",
    "# test_acc: 0.9881481528282166\n",
    "# predicted : 42\n",
    "# true positive : 39\n",
    "# precision : 0.9285714285714286\n",
    "# recall : 0.23780487804878048\n",
    "# f1 score : 0.3786407766990291\n",
    "# roc score : 0.6187614085618104\n",
    "\n",
    "# 20 epochs - layers 32 64 128 - Dropout 0.3 eliminated(0.3) - loss='categorical_crossentropy' - DataAugmentation \n",
    "# test_acc: 0.988703727722168\n",
    "# predicted : 50\n",
    "# true positive : 46\n",
    "# precision : 0.92\n",
    "# recall : 0.2804878048780488\n",
    "# f1 score : 0.4299065420560748\n",
    "# roc score : 0.6400558618222512\n",
    "\n",
    "# 20 epochs - layers 32 64 128 - Dropout 0.3 0.3 - loss='categorical_crossentropy' - DataAugmentation - sigmoid in Conv2D layers\n",
    "# test_acc: 0.9850925803184509\n",
    "# predicted : 39\n",
    "# true positive : 19\n",
    "# precision : 0.5428571428571428\n",
    "# recall : 0.11585365853658537\n",
    "# f1 score : 0.19095477386934676\n",
    "# roc score : 0.5571746668011999\n",
    "\n",
    "# 20 epochs - layers 32 64 128 - Dropout 0.3 0.3 - loss='categorical_crossentropy' - DataAugmentation - padding='same'\n",
    "# test_acc: 0.988703727722168\n",
    "# predicted : 44\n",
    "# true positive : 43\n",
    "# precision : 0.9772727272727273\n",
    "# recall : 0.2621951219512195\n",
    "# f1 score : 0.41346153846153844\n",
    "# roc score : 0.6310505508214165\n",
    "\n",
    "# 20 epochs - layers 32 64 128 128 64 - Dropout 0.3 0.3 - loss='categorical_crossentropy' - DataAugmentation\n",
    "# test_acc: 0.9893518686294556\n",
    "# predicted : 51\n",
    "# true positive : 50\n",
    "# precision : 0.9803921568627451\n",
    "# recall : 0.3048780487804878\n",
    "# f1 score : 0.4651162790697675\n",
    "# roc score : 0.6523920142360506\n",
    "\n",
    "# 100 epochs - layers 32 64 128 128 64 - Dropout 0.3 0.3 - loss='categorical_crossentropy' - DataAugmentation\n",
    "# test_acc: 0.9893518686294556\n",
    "# predicted : 53\n",
    "# true positive : 51\n",
    "# precision : 0.9622641509433962\n",
    "# recall : 0.31097560975609756\n",
    "# f1 score : 0.4700460829493088\n",
    "# roc score : 0.6553937845696622\n",
    "\n",
    "# 20 epochs - layers 32 64 128 128 64 - Dropout 0.3 0.3 - loss='categorical_crossentropy' - DataAugmentation - optimizer='Nadam'\n",
    "# test_acc: 0.9897222518920898\n",
    "# predicted : 65\n",
    "# true positive : 59\n",
    "# precision : 0.9076923076923077\n",
    "# recall : 0.3597560975609756\n",
    "# f1 score : 0.5152838427947598\n",
    "# roc score : 0.679595987855328\n",
    "\n",
    "# 20 epochs - layers 32 64 128 128 128 64 - Dropout 0.3 0.3 - loss='categorical_crossentropy' - DataAugmentation - optimizer='Nadam'\n",
    "# test_acc: 0.9889814853668213\n",
    "# predicted : 49\n",
    "# true positive : 47\n",
    "# precision : 0.9591836734693877\n",
    "# recall : 0.2865853658536585\n",
    "# f1 score : 0.44131455399061026\n",
    "# roc score : 0.6431986626184426\n",
    "\n",
    "# 20 epochs - layers 32 64 64 128 128 64 - Dropout 0.3 0.3 - loss='categorical_crossentropy' - DataAugmentation - optimizer='Nadam'\n",
    "# test_acc: 0.9880555272102356\n",
    "# predicted : 47\n",
    "# true positive : 41\n",
    "# precision : 0.8723404255319149\n",
    "# recall : 0.25\n",
    "# f1 score : 0.3886255924170616\n",
    "# roc score : 0.6247179390748402\n",
    "\n",
    "# 20 epochs - layers 32 32 64 128 128 64 - Dropout 0.3 0.3 - loss='categorical_crossentropy' - DataAugmentation - optimizer='Nadam'\n",
    "# test_acc: 0.9877777695655823\n",
    "# predicted : 40\n",
    "# true positive : 36\n",
    "# precision : 0.9\n",
    "# recall : 0.21951219512195122\n",
    "# f1 score : 0.3529411764705882\n",
    "# roc score : 0.6095680569442024\n",
    "\n",
    "# 20 epochs - layers 32 64 128 128 64 - Dropout 0.3 0.3 - loss='binary_crossentropy' - DataAugmentation - optimizer='Nadam'\n",
    "# test_acc: 0.9888888597488403\n",
    "# predicted : 52\n",
    "# true positive : 48\n",
    "# precision : 0.9230769230769231\n",
    "# recall : 0.2926829268292683\n",
    "# f1 score : 0.4444444444444444\n",
    "# roc score : 0.6461534227978609\n",
    "\n",
    "# 20 epochs - layers 32 64 128 128 64 - Dropout 0.3 0.3 - loss=BinaryCrossentropy(from_logits=True) - DataAugmentation - optimizer='Nadam'\n",
    "# test_acc: 0.9892592430114746\n",
    "# predicted : 52\n",
    "# true positive : 50\n",
    "# precision : 0.9615384615384616\n",
    "# recall : 0.3048780487804878\n",
    "# f1 score : 0.46296296296296297\n",
    "# roc score : 0.6523450040818572\n",
    "\n",
    "# 20 epochs - layers 32 64 128 128 64 - Dropout 0.3 0.3 - loss=BinaryCrossentropy(from_logits=True) - binary_accuracy - DataAugmentation - optimizer='Nadam'\n",
    "# test_acc: 0.9887962937355042\n",
    "# predicted : 51\n",
    "# true positive : 47\n",
    "# precision : 0.9215686274509803\n",
    "# recall : 0.2865853658536585\n",
    "# f1 score : 0.43720930232558136\n",
    "# roc score : 0.643104642310056\n",
    "\n",
    "# 20 epochs - layers 32 64 128 128 64 - Dropout 0.3 0.3 - loss=BinaryCrossentropy(from_logits=True) - binary_accuracy - sigmoid - DataAugmentation - optimizer='Nadam'\n",
    "# test_acc: 0.9892592430114746\n",
    "# predicted : 56\n",
    "# true positive : 52\n",
    "# precision : 0.9285714285714286\n",
    "# recall : 0.3170731707317073\n",
    "# f1 score : 0.4727272727272727\n",
    "# roc score : 0.6583485447490804\n",
    "\n",
    "# 20 epochs - layers 32 64 128 64 - Dropout 0.3 0.3 - loss=BinaryCrossentropy(from_logits=True) - binary_accuracy - sigmoid - DataAugmentation - optimizer='Nadam'\n",
    "# test_acc: 0.989120364189148\n",
    "# predicted : 56\n",
    "# true positive : 52\n",
    "# precision : 0.9285714285714286\n",
    "# recall : 0.3170731707317073\n",
    "# f1 score : 0.4727272727272727\n",
    "# roc score : 0.6583485447490804\n",
    "\n",
    "# 20 epochs - layers 32 64 64 128 64 - Dropout 0.3 0.3 - loss=BinaryCrossentropy(from_logits=True) - binary_accuracy - sigmoid - DataAugmentation - optimizer='Nadam'\n",
    "# test_acc: 0.9895370602607727\n",
    "# predicted : 60\n",
    "# true positive : 56\n",
    "# precision : 0.9333333333333333\n",
    "# recall : 0.34146341463414637\n",
    "# f1 score : 0.5\n",
    "# roc score : 0.6705436667003\n",
    "\n",
    "# 20 epochs - layers 32 64 64 64 128 64 - Dropout 0.3 0.3 - loss=BinaryCrossentropy(from_logits=True) - binary_accuracy - sigmoid - DataAugmentation - optimizer='Nadam'\n",
    "# test_acc: 0.9888888597488403\n",
    "# predicted : 51\n",
    "# true positive : 47\n",
    "# precision : 0.9215686274509803\n",
    "# recall : 0.2865853658536585\n",
    "# f1 score : 0.43720930232558136\n",
    "# roc score : 0.643104642310056\n",
    "\n",
    "# 20 epochs - layers 32 32 64 64 128 64 - Dropout 0.3 0.3 - loss=BinaryCrossentropy(from_logits=True) - binary_accuracy - sigmoid - DataAugmentation - optimizer='Nadam'\n",
    "# test_acc: 0.988703727722168\n",
    "# predicted : 44\n",
    "# true positive : 43\n",
    "# precision : 0.9772727272727273\n",
    "# recall : 0.2621951219512195\n",
    "# f1 score : 0.41346153846153844\n",
    "# roc score : 0.6310505508214165\n",
    "\n",
    "# 20 epochs - layers 32 64 64 128 64 - SpatialDropout2D 0.3 0.3 - loss=BinaryCrossentropy(from_logits=True) - binary_accuracy - sigmoid - DataAugmentation - optimizer='Nadam'\n",
    "# test_acc: 0.9886574149131775\n",
    "# predicted : 51\n",
    "# true positive : 46\n",
    "# precision : 0.9019607843137255\n",
    "# recall : 0.2804878048780488\n",
    "# f1 score : 0.427906976744186\n",
    "# roc score : 0.6400088516680579\n",
    "\n",
    "# 20 epochs - layers 32 64 64 128 64 - SpatialDropout2D 0.5 - loss=BinaryCrossentropy(from_logits=True) - binary_accuracy - sigmoid - DataAugmentation - optimizer='Nadam'\n",
    "# test_acc: 0.9886574149131775\n",
    "# predicted : 47\n",
    "# true positive : 44\n",
    "# precision : 0.9361702127659575\n",
    "# recall : 0.2682926829268293\n",
    "# f1 score : 0.4170616113744076\n",
    "# roc score : 0.6340053110008348\n",
    "\n",
    "# 20 epochs - layers 32 64 64 128 64 - Dropout 0.5 - loss=BinaryCrossentropy(from_logits=True) - binary_accuracy - sigmoid - DataAugmentation - optimizer='Nadam'\n",
    "# test_acc: 0.9888888597488403\n",
    "# predicted : 49\n",
    "# true positive : 47\n",
    "# precision : 0.9591836734693877\n",
    "# recall : 0.2865853658536585\n",
    "# f1 score : 0.44131455399061026\n",
    "# roc score : 0.6431986626184426\n",
    "\n",
    "# 100 epochs - layers 32 64 64 128 64 - Dropout 0.5 - loss=BinaryCrossentropy(from_logits=True) - binary_accuracy - sigmoid - DataAugmentation - optimizer='Nadam'\n",
    "# test_acc: 0.9905555844306946\n",
    "# predicted : 66\n",
    "# true positive : 64\n",
    "# precision : 0.9696969696969697\n",
    "# recall : 0.3902439024390244\n",
    "# f1 score : 0.5565217391304348\n",
    "# roc score : 0.6950279309111255\n",
    "\n",
    "# 100 epochs - layers 32 64 64 128 64 - Dropout 0.3 0.3 - loss=BinaryCrossentropy(from_logits=True) - binary_accuracy - sigmoid - DataAugmentation - optimizer='Nadam'\n",
    "# test_acc: 0.9901388883590698\n",
    "# predicted : 66\n",
    "# true positive : 61\n",
    "# precision : 0.9242424242424242\n",
    "# recall : 0.3719512195121951\n",
    "# f1 score : 0.5304347826086956\n",
    "# roc score : 0.6857405589851311\n",
    "\n",
    "# 100 epochs - layers 32 64 64 128 64 - Dropout 0.5 - loss=BinaryCrossentropy(from_logits=True) - batch_size=64 - binary_accuracy - sigmoid - DataAugmentation - optimizer='Nadam'\n",
    "# test_acc: 0.9895370602607727\n",
    "# predicted : 59\n",
    "# true positive : 56\n",
    "# precision : 0.9491525423728814\n",
    "# recall : 0.34146341463414637\n",
    "# f1 score : 0.5022421524663677\n",
    "# roc score : 0.6705906768544933\n",
    "\n",
    "# 100 epochs - layers 32 64 64 128 64 - Dropout 0.5 - loss=BinaryCrossentropy(from_logits=True) - batch_size=128 - binary_accuracy - sigmoid - DataAugmentation - optimizer='Nadam'\n",
    "# test_acc: 0.990231454372406\n",
    "# predicted : 65\n",
    "# true positive : 62\n",
    "# precision : 0.9538461538461539\n",
    "# recall : 0.3780487804878049\n",
    "# f1 score : 0.5414847161572053\n",
    "# roc score : 0.6888833597813225\n",
    "\n",
    "# 20 epochs - layers 32 64 64 128 64 - Dropout 0.5 - loss=BinaryCrossentropy(from_logits=True) - batch_size=128 - binary_accuracy - sigmoid - DataAugmentation - optimizer='Nadam'\n",
    "# test_acc: 0.9884722232818604\n",
    "# predicted : 66\n",
    "# true positive : 53\n",
    "# precision : 0.803030303030303\n",
    "# recall : 0.3231707317073171\n",
    "# f1 score : 0.4608695652173913\n",
    "# roc score : 0.6609742338491456\n",
    "\n",
    "# 20 epochs - layers 32 64 64 128 64 - Dropout 0.5 - RobustScaler - loss=BinaryCrossentropy(from_logits=True) - batch_size=128 - binary_accuracy - sigmoid - DataAugmentation - optimizer='Nadam'\n",
    "# test_acc: 0.9893518686294556\n",
    "# predicted : 64\n",
    "# true positive : 57\n",
    "# precision : 0.890625\n",
    "# recall : 0.3475609756097561\n",
    "# f1 score : 0.4999999999999999\n",
    "# roc score : 0.6734514167255249\n",
    "\n",
    "# 100 epochs - layers 32 64 64 128 64 - Dropout 0.5 - RobustScaler - loss=BinaryCrossentropy(from_logits=True) - batch_size=128 - binary_accuracy - sigmoid - DataAugmentation - optimizer='Nadam'\n",
    "# test_acc: 0.9902777671813965\n",
    "# predicted : 64\n",
    "# true positive : 62\n",
    "# precision : 0.96875\n",
    "# recall : 0.3780487804878049\n",
    "# f1 score : 0.543859649122807\n",
    "# roc score : 0.6889303699355157\n",
    "\n"
   ]
  },
  {
   "cell_type": "code",
   "execution_count": null,
   "metadata": {},
   "outputs": [
    {
     "name": "stdout",
     "output_type": "stream",
     "text": [
      "1/1 [==============================] - 0s 17ms/step\n",
      "[[0. 1.]] [[0. 1.]]\n",
      "cam n° : 5356\n"
     ]
    },
    {
     "data": {
      "text/plain": [
       "<matplotlib.colorbar.Colorbar at 0x2193ddf5c30>"
      ]
     },
     "execution_count": 30,
     "metadata": {},
     "output_type": "execute_result"
    },
    {
     "data": {
      "image/png": "[encoded data removed]",
      "text/plain": [
       "<Figure size 640x480 with 2 Axes>"
      ]
     },
     "metadata": {},
     "output_type": "display_data"
    }
   ],
   "source": [
    "ex = np.where(test_label==1)[0][91]\n",
    "predex = model.predict(test_data[ex].reshape(-1, cam_side_length, cam_side_length, 1))\n",
    "print(predex, np.around(predex))\n",
    "print('cam n° :',ex)\n",
    "\n",
    "cam = plt.pcolormesh(test_data[4303].reshape(cam_side_length, cam_side_length)*renormalisation)\n",
    "plt.colorbar(cam)  "
   ]
  }
 ],
 "metadata": {
  "kernelspec": {
   "display_name": "Python 3",
   "language": "python",
   "name": "python3"
  },
  "language_info": {
   "codemirror_mode": {
    "name": "ipython",
    "version": 3
   },
   "file_extension": ".py",
   "mimetype": "text/x-python",
   "name": "python",
   "nbconvert_exporter": "python",
   "pygments_lexer": "ipython3",
   "version": "3.10.6"
  },
  "orig_nbformat": 4
 },
 "nbformat": 4,
 "nbformat_minor": 2
}
