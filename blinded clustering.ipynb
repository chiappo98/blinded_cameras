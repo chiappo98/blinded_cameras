{
 "cells": [
  {
   "attachments": {},
   "cell_type": "markdown",
   "metadata": {},
   "source": [
    "## Blinded cameras clustering"
   ]
  },
  {
   "attachments": {},
   "cell_type": "markdown",
   "metadata": {},
   "source": [
    "Here the dataset is a pandas DataFrame generated from a response.drdf file. \n",
    "The file can be found at \"/storage/gpfs_data/neutrino/SAND-LAr/SAND-LAr-GRAIN-CALORIMETRY/data/cube_production/production1/cube_X0_Y0_Z-3/output/response_cut.drdf\"."
   ]
  },
  {
   "cell_type": "code",
   "execution_count": 1,
   "metadata": {},
   "outputs": [],
   "source": [
    "import pandas as pd\n",
    "import numpy as np\n",
    "from matplotlib import pyplot as plt \n",
    "from matplotlib.backends.backend_pdf import PdfPages\n",
    "from sklearn.cluster import KMeans\n",
    "import skimage\n",
    "from joblib import Parallel, delayed"
   ]
  },
  {
   "attachments": {},
   "cell_type": "markdown",
   "metadata": {},
   "source": [
    "### Read data from pickle format"
   ]
  },
  {
   "attachments": {},
   "cell_type": "markdown",
   "metadata": {},
   "source": [
    "Compose data array from dataframe column, keeping different cameras in the rows, while columns represent the pixels"
   ]
  },
  {
   "cell_type": "code",
   "execution_count": 2,
   "metadata": {},
   "outputs": [],
   "source": [
    "#module_path = os.path.abspath(os.path.join('..'))\n",
    "df = pd.read_pickle(\"blind_cameras_dataset\\\\drdf_arrays.pkl\")\n",
    "\n",
    "df2arr = df.pixels.to_numpy()\n",
    "arr3d = np.stack(df2arr)\n",
    "data = arr3d.reshape(df2arr.shape[0],32*32)\n"
   ]
  },
  {
   "cell_type": "code",
   "execution_count": 3,
   "metadata": {},
   "outputs": [],
   "source": [
    "# NB this os the proof of how the reshape method works!!\n",
    "# t0 = test[0]\n",
    "# t1 = test1[0]\n",
    "# d = np.empty(0)\n",
    "# for i in range(32):\n",
    "#     for j in range(32):\n",
    "#         diff = t0[i,j] - t1[i*32+j]\n",
    "#         d = np.apltend(d,diff)\n",
    "        \n",
    "# print(np.min(d), np.max(d))"
   ]
  },
  {
   "attachments": {},
   "cell_type": "markdown",
   "metadata": {},
   "source": [
    "### Show distribution of data from the entire file"
   ]
  },
  {
   "cell_type": "code",
   "execution_count": 4,
   "metadata": {},
   "outputs": [
    {
     "data": {
      "image/png": "[encoded data removed]",
      "text/plain": [
       "<Figure size 640x480 with 1 Axes>"
      ]
     },
     "metadata": {},
     "output_type": "display_data"
    }
   ],
   "source": [
    "plt.hist(data.reshape(-1,1),100)\n",
    "plt.yscale('log')"
   ]
  },
  {
   "attachments": {},
   "cell_type": "markdown",
   "metadata": {},
   "source": [
    "### Filter data"
   ]
  },
  {
   "cell_type": "code",
   "execution_count": 3,
   "metadata": {},
   "outputs": [],
   "source": [
    "def task(camera):\n",
    "    thr = skimage.filters.threshold_minimum(image=camera, nbins=1024, max_num_iter=1000000)\n",
    "    return thr\n",
    "\n",
    "filter = False\n",
    "\n",
    "if filter:\n",
    "    thresholds = Parallel(n_jobs=5)(delayed(task)(i) for i in arr3d[:2000])\n",
    "    \n",
    "    print(thresholds)\n",
    "    thr = np.array(thresholds).reshape(-1,1)\n",
    "    filt = (data[:1000] > thr)*thr\n",
    "    filt.shape"
   ]
  },
  {
   "attachments": {},
   "cell_type": "markdown",
   "metadata": {},
   "source": [
    "N.B. takes 14 min"
   ]
  },
  {
   "cell_type": "code",
   "execution_count": 4,
   "metadata": {},
   "outputs": [],
   "source": [
    "if not filter:\n",
    "    hess = skimage.filters.hessian(arr3d)\n",
    "    hess.shape\n",
    "    filt = (hess*arr3d).reshape(-1,1024)"
   ]
  },
  {
   "cell_type": "markdown",
   "metadata": {},
   "source": [
    "### Find probable blinded cameras through simple amplitude considerations"
   ]
  },
  {
   "cell_type": "code",
   "execution_count": 5,
   "metadata": {},
   "outputs": [
    {
     "name": "stdout",
     "output_type": "stream",
     "text": [
      "491 over 46968\n"
     ]
    }
   ],
   "source": [
    "index = np.empty(0)\n",
    "\n",
    "for img in arr3d:\n",
    "    if (np.amax(img) > 40):\n",
    "        if (np.amax(img)/np.mean(img) > 7):\n",
    "            index = np.append(index, 1)\n",
    "        else :\n",
    "            index = np.append(index, 0) \n",
    "    else :\n",
    "        index = np.append(index, 0) \n",
    "        \n",
    "print(index[index == 1].size, 'over', arr3d.shape[0])\n",
    "assigned_blind = arr3d[np.where(index == 1)]\n",
    "#print(np.where(index == 1))"
   ]
  },
  {
   "attachments": {},
   "cell_type": "markdown",
   "metadata": {},
   "source": [
    "### Use the KMean algorithm to clusterise the datasample.\n",
    "The same data are the processed to check the clusterization."
   ]
  },
  {
   "cell_type": "code",
   "execution_count": 23,
   "metadata": {},
   "outputs": [
    {
     "name": "stdout",
     "output_type": "stream",
     "text": [
      "45684 131 2 1 1 1 1135 13\n"
     ]
    }
   ],
   "source": [
    "# Declaring Model\n",
    "# model = KMeans(n_clusters=3)\n",
    "# model2 = KMeans(init=\"random\", n_clusters=3, n_init=20, random_state=0)\n",
    "# model2 = KMeans(init=\"k-means++\", n_clusters=3, n_init=20, random_state=0)\n",
    "model = KMeans(init=\"k-means++\", n_clusters=8, n_init=20, random_state=0)\n",
    "# Fitting Model\n",
    "# model.fit(data)\n",
    "# model2.fit(data)\n",
    "# model2.fit(data)\n",
    "model.fit(filt)\n",
    "\n",
    "# print(np.count_nonzero(model2.labels_ == 0), np.count_nonzero(model2.labels_ == 1), np.count_nonzero(model1.labels_ == 2))\n",
    "# print(np.count_nonzero(model2.labels_ == 0), np.count_nonzero(model2.labels_ == 1), np.count_nonzero(model2.labels_ == 2))\n",
    "print(np.count_nonzero(model.labels_ == 0), np.count_nonzero(model.labels_ == 1), np.count_nonzero(model.labels_ == 2), np.count_nonzero(model.labels_ == 3), np.count_nonzero(model.labels_ == 4), np.count_nonzero(model.labels_ == 5), np.count_nonzero(model.labels_ == 6), np.count_nonzero(model.labels_ == 7))\n",
    "\n",
    "lb3 = model.predict(filt)"
   ]
  },
  {
   "cell_type": "markdown",
   "metadata": {},
   "source": [
    "#### Model evaluation"
   ]
  },
  {
   "cell_type": "code",
   "execution_count": 46,
   "metadata": {},
   "outputs": [
    {
     "name": "stdout",
     "output_type": "stream",
     "text": [
      "positive total : 1284\n",
      "predicted positive : 491\n",
      "true positive = 391 / 1284 = 30.45171339563863 %\n",
      "false positive = 893 / 1284 = 69.54828660436138 %\n",
      "cluster 0 : 100 / 45684\n",
      "cluster 1 : 60 / 131\n",
      "cluster 2 : 2 / 2\n",
      "cluster 3 : 1 / 1\n",
      "cluster 4 : 1 / 1\n",
      "cluster 5 : 1 / 1\n",
      "cluster 6 : 318 / 1135\n",
      "cluster 7 : 8 / 13\n"
     ]
    }
   ],
   "source": [
    "clustered_blind_idx = np.where((lb3 == 1) | (lb3 == 2) | (lb3 == 3) | (lb3 == 4) | (lb3 == 5) | (lb3 == 6) | (lb3 == 7))[0]\n",
    "\n",
    "common_cameras = np.intersect1d(clustered_blind_idx, np.where(index == 1))\n",
    "print('positive total :', clustered_blind_idx.shape[0])\n",
    "print('predicted positive :', assigned_blind.shape[0])\n",
    "print('true positive =', common_cameras.shape[0], '/', clustered_blind_idx.shape[0], '=', common_cameras.shape[0]/clustered_blind_idx.shape[0]*100, '%')\n",
    "print('false positive =', clustered_blind_idx.shape[0] - common_cameras.shape[0], '/', clustered_blind_idx.shape[0], '=', (clustered_blind_idx.shape[0] - common_cameras.shape[0])/clustered_blind_idx.shape[0]*100, '%')\n",
    "print('cluster 0 :',np.intersect1d(np.where(lb3 == 0), np.where(index == 1)).shape[0], '/',np.where(lb3 == 0)[0].size)\n",
    "print('cluster 1 :',np.intersect1d(np.where(lb3 == 1), np.where(index == 1)).shape[0], '/',np.where(lb3 == 1)[0].size)\n",
    "print('cluster 2 :',np.intersect1d(np.where(lb3 == 2), np.where(index == 1)).shape[0], '/',np.where(lb3 == 2)[0].size)\n",
    "print('cluster 3 :',np.intersect1d(np.where(lb3 == 3), np.where(index == 1)).shape[0], '/',np.where(lb3 == 3)[0].size)\n",
    "print('cluster 4 :',np.intersect1d(np.where(lb3 == 4), np.where(index == 1)).shape[0], '/',np.where(lb3 == 4)[0].size)\n",
    "print('cluster 5 :',np.intersect1d(np.where(lb3 == 5), np.where(index == 1)).shape[0], '/',np.where(lb3 == 5)[0].size)\n",
    "print('cluster 6 :',np.intersect1d(np.where(lb3 == 6), np.where(index == 1)).shape[0], '/',np.where(lb3 == 6)[0].size)\n",
    "print('cluster 7 :',np.intersect1d(np.where(lb3 == 7), np.where(index == 1)).shape[0], '/',np.where(lb3 == 7)[0].size)\n"
   ]
  },
  {
   "cell_type": "markdown",
   "metadata": {},
   "source": [
    "#### Attempt for a second filter"
   ]
  },
  {
   "cell_type": "code",
   "execution_count": 52,
   "metadata": {},
   "outputs": [
    {
     "name": "stdout",
     "output_type": "stream",
     "text": [
      "255 879 1 0\n",
      "318 over 1135\n",
      "cluster 0 : 101 / 255\n",
      "cluster 1 : 216 / 879\n",
      "cluster 2 : 1 / 1\n",
      "cluster 3 : 0 / 0\n"
     ]
    }
   ],
   "source": [
    "new_filt = filt[np.where(lb3 == 6)[0]]\n",
    "new_arr3d = arr3d[np.where(lb3 == 6)[0]]\n",
    "\n",
    "model1 = KMeans(init=\"k-means++\", n_clusters=3, n_init=20, random_state=0)\n",
    "model1.fit(new_filt)\n",
    "print(np.count_nonzero(model1.labels_ == 0), np.count_nonzero(model1.labels_ == 1), np.count_nonzero(model1.labels_ == 2), np.count_nonzero(model1.labels_ == 3))\n",
    "lb1 = model1.predict(new_filt)\n",
    "\n",
    "index1 = np.empty(0)\n",
    "\n",
    "for img in new_arr3d:\n",
    "    if (np.amax(img) > 40):\n",
    "        if (np.amax(img)/np.mean(img) > 7):\n",
    "            index1 = np.append(index1, 1)\n",
    "        else :\n",
    "            index1 = np.append(index1, 0) \n",
    "    else :\n",
    "        index1 = np.append(index1, 0) \n",
    "        \n",
    "print(index1[index1 == 1].size, 'over', new_arr3d.shape[0])\n",
    "assigned_blind1 = new_arr3d[np.where(index1 == 1)]\n",
    "\n",
    "print('cluster 0 :',np.intersect1d(np.where(lb1 == 0), np.where(index1 == 1)).shape[0], '/',np.where(lb1 == 0)[0].size)\n",
    "print('cluster 1 :',np.intersect1d(np.where(lb1 == 1), np.where(index1 == 1)).shape[0], '/',np.where(lb1 == 1)[0].size)\n",
    "print('cluster 2 :',np.intersect1d(np.where(lb1 == 2), np.where(index1 == 1)).shape[0], '/',np.where(lb1 == 2)[0].size)\n",
    "print('cluster 3 :',np.intersect1d(np.where(lb1 == 3), np.where(index1 == 1)).shape[0], '/',np.where(lb1 == 3)[0].size)\n",
    "\n"
   ]
  },
  {
   "cell_type": "markdown",
   "metadata": {},
   "source": [
    "#### re-filter non-blinded cluster"
   ]
  },
  {
   "cell_type": "code",
   "execution_count": null,
   "metadata": {},
   "outputs": [],
   "source": [
    "new_new_filt = filt[np.where(lb3 == 0)[0]]\n",
    "new_new_arr3d = arr3d[np.where(lb3 == 0)[0]]\n",
    "\n",
    "model2 = KMeans(init=\"k-means++\", n_clusters=3, n_init=20, random_state=0)\n",
    "model2.fit(new_filt)\n",
    "print(np.count_nonzero(model2.labels_ == 0), np.count_nonzero(model2.labels_ == 1), np.count_nonzero(model2.labels_ == 2), np.count_nonzero(model2.labels_ == 3))\n",
    "lb2 = model2.predict(new_new_filt)\n",
    "\n",
    "index2 = np.empty(0)\n",
    "\n",
    "for img in new_new_arr3d:\n",
    "    if (np.amax(img) > 40):\n",
    "        if (np.amax(img)/np.mean(img) > 7):\n",
    "            index2 = np.append(index2, 1)\n",
    "        else :\n",
    "            index2 = np.append(index2, 0) \n",
    "    else :\n",
    "        index2 = np.append(index2, 0) \n",
    "        \n",
    "print(index2[index2 == 1].size, 'over', new_new_arr3d.shape[0])\n",
    "assigned_blind1 = new_new_arr3d[np.where(index2 == 1)]\n",
    "\n",
    "print('cluster 0 :',np.intersect1d(np.where(lb2 == 0), np.where(index2 == 1)).shape[0], '/',np.where(lb2 == 0)[0].size)\n",
    "print('cluster 1 :',np.intersect1d(np.where(lb2 == 1), np.where(index2 == 1)).shape[0], '/',np.where(lb2 == 1)[0].size)\n",
    "print('cluster 2 :',np.intersect1d(np.where(lb2 == 2), np.where(index2 == 1)).shape[0], '/',np.where(lb2 == 2)[0].size)\n",
    "print('cluster 3 :',np.intersect1d(np.where(lb2 == 3), np.where(index2 == 1)).shape[0], '/',np.where(lb2 == 3)[0].size)\n"
   ]
  },
  {
   "cell_type": "code",
   "execution_count": 26,
   "metadata": {},
   "outputs": [
    {
     "data": {
      "image/png": "[encoded data removed]",
      "text/plain": [
       "<Figure size 2000x1000 with 6 Axes>"
      ]
     },
     "metadata": {},
     "output_type": "display_data"
    }
   ],
   "source": [
    "\n",
    "#bl3 = np.where(lb3 == 2)\n",
    "#bl3 = np.where((lb3 == 1) | (lb3 == 2) | (lb3 == 3) | (lb3 == 4))\n",
    "#   blind_in_common3 = np.intersect1d(blind_candidate, blind_candidate[bl3[0]])\n",
    "#blind_in_common3 = np.intersect1d(blind_candidate, bl3[0])\n",
    "#   print('common blind =', blind_in_common3.size,'out of',bl3[0].size, 'predicted.\\nCandidates were',blind_candidate.size)\n",
    "#   blind_not_in_common3 = np.setdiff1d(blind_candidate[bl3[0]], blind_in_common3, assume_unique=True)\n",
    "#blind_not_in_common3 = np.setdiff1d(bl3[0], blind_in_common3, assume_unique=True) #returns the value in arr1 which are not in arr2\n",
    "#   print('not in common :',blind_not_in_common3)\n",
    "\n",
    "# plot photon hit distribution of cluster 0,1,2 separately\n",
    "fig, ax = plt.subplots(2,3)\n",
    "\n",
    "#ax[0].hist(data[np.where(lb3 == 0)[0]].reshape(-1,1),100)\n",
    "ax[0,0].hist(data[np.where(lb3 == 0)[0]].reshape(-1,1),100)\n",
    "ax [0,0].set_yscale('log')\n",
    "ax[0,0].set_title('non blinded')\n",
    "\n",
    "#ax[1].hist(data[np.where(lb3 == 1)[0]].reshape(-1,1),50)\n",
    "ax[0,1].hist(data[np.where(lb3 == 1)[0]].reshape(-1,1),50)\n",
    "ax [0,1].set_yscale('log')\n",
    "ax[0,1].set_title('blinded cat1')\n",
    "\n",
    "ax[0,2].hist(data[np.where(lb3 == 2)[0]].reshape(-1,1),50)\n",
    "#ax[2].hist(data[np.where(lb3 == 1)[0]].reshape(-1,1),50)\n",
    "ax [0,2].set_yscale('log')\n",
    "ax[0,2].set_title('blinded cat2')\n",
    "\n",
    "ax[1,0].hist(data[np.where(lb3 == 3)[0]].reshape(-1,1),50)\n",
    "#ax[2].hist(data[np.where(lb3 == 1)[0]].reshape(-1,1),50)\n",
    "ax [1,0].set_yscale('log')\n",
    "ax[1,0].set_title('blinded cat3')\n",
    "\n",
    "ax[1,1].hist(data[np.where(lb3 == 4)[0]].reshape(-1,1),50)\n",
    "#ax[2].hist(data[np.where(lb3 == 1)[0]].reshape(-1,1),50)\n",
    "ax [1,1].set_yscale('log')\n",
    "ax[1,1].set_title('blinded cat4')\n",
    "\n",
    "ax[1,2].hist(data[np.where(lb3 == 7)[0]].reshape(-1,1),50)\n",
    "#ax[2].hist(data[np.where(lb3 == 1)[0]].reshape(-1,1),50)\n",
    "ax [1,2].set_yscale('log')\n",
    "ax[1,2].set_title('blinded cat4')\n",
    "\n",
    "fig.set_figwidth(20)\n",
    "fig.set_figheight(10)"
   ]
  },
  {
   "cell_type": "code",
   "execution_count": 10,
   "metadata": {},
   "outputs": [],
   "source": [
    "#np.where(lb3 == 4)[0]"
   ]
  },
  {
   "cell_type": "code",
   "execution_count": 12,
   "metadata": {},
   "outputs": [
    {
     "name": "stdout",
     "output_type": "stream",
     "text": [
      "409 over 1284\n",
      "100 over 45684\n"
     ]
    }
   ],
   "source": [
    "blind = data[np.where((lb3 == 1) | (lb3 == 2) | (lb3 == 3) | (lb3 == 4) | (lb3 == 5) | (lb3 == 6))]\n",
    "not_blind = data[np.where(lb3 == 0)]\n",
    "\n",
    "index_b = np.empty(0)\n",
    "index_nb = np.empty(0)\n",
    "\n",
    "for img in blind:\n",
    "    if np.max(img)/np.mean(img) > 7:\n",
    "        index_b = np.append(index_b, 1)\n",
    "    else :\n",
    "        index_b = np.append(index_b, 0)\n",
    "\n",
    "print(index_b[index_b == 1].size, 'over', blind.shape[0])\n",
    "filtered_blind = blind[np.where(index_b == 1)]\n",
    "#print(np.where(index_b == 1))\n",
    "\n",
    "for img in not_blind:\n",
    "    if (np.amax(img) > 40):\n",
    "        if (np.amax(img)/np.mean(img) > 7):\n",
    "            index_nb = np.append(index_nb, 1)\n",
    "        else :\n",
    "            index_nb = np.append(index_nb, 0) \n",
    "    else :\n",
    "        index_nb = np.append(index_nb, 0) \n",
    "        \n",
    "print(index_nb[index_nb == 1].size, 'over', not_blind.shape[0])\n",
    "filtered_not_blind = not_blind[np.where(index_nb == 1)]\n",
    "#print(np.where(index_nb == 1))"
   ]
  },
  {
   "attachments": {},
   "cell_type": "markdown",
   "metadata": {},
   "source": [
    "### Plot photon distribution for 1 camera"
   ]
  },
  {
   "cell_type": "code",
   "execution_count": 41,
   "metadata": {},
   "outputs": [
    {
     "data": {
      "image/png": "[encoded data removed]",
      "text/plain": [
       "<Figure size 1500x480 with 3 Axes>"
      ]
     },
     "metadata": {},
     "output_type": "display_data"
    }
   ],
   "source": [
    "data_num = 15479\n",
    "\n",
    "fig, ax = plt.subplots(1,2)\n",
    "ax[0].hist(not_blind[data_num],100)\n",
    "ax[0].set_yscale('log')\n",
    "\n",
    "#camera = np.reshape(df.iloc[162].pixels, (32,32))\n",
    "cam = ax[1].pcolormesh(not_blind[data_num].reshape(32,32))\n",
    "#cam = ax[1].pcolormesh(arr3d[data_num])\n",
    "plt.colorbar(cam)\n",
    "\n",
    "fig.set_figwidth(15)"
   ]
  },
  {
   "attachments": {},
   "cell_type": "markdown",
   "metadata": {},
   "source": [
    "### save cameras to pdf"
   ]
  },
  {
   "cell_type": "code",
   "execution_count": 14,
   "metadata": {},
   "outputs": [],
   "source": [
    "write_pdf = True\n",
    "# if (filtered_blind.shape[0] < 1000) & (write_pdf) :\n",
    "#     pdf = PdfPages('blinded_filtered.pdf')\n",
    "#     for num in filtered_blind:\n",
    "#         fig = plt.figure()\n",
    "#         cam = plt.pcolormesh(num.reshape(32,32))\n",
    "#         plt.colorbar(cam)\n",
    "#         #plt.title('cam-'+str(num))\n",
    "#         pdf.savefig(fig)\n",
    "#         plt.close()\n",
    "#     pdf.close()\n",
    "    \n",
    "if (blind.shape[0] < 1500) & (write_pdf) :\n",
    "    pdf = PdfPages('blinded.pdf')\n",
    "    for num in blind:\n",
    "        fig = plt.figure()\n",
    "        cam = plt.pcolormesh(num.reshape(32,32))\n",
    "        plt.colorbar(cam)\n",
    "        #plt.title('cam-'+str(num))\n",
    "        pdf.savefig(fig)\n",
    "        plt.close()\n",
    "    pdf.close()"
   ]
  },
  {
   "attachments": {},
   "cell_type": "markdown",
   "metadata": {},
   "source": [
    "#### Save to pickle file"
   ]
  },
  {
   "cell_type": "code",
   "execution_count": 13,
   "metadata": {},
   "outputs": [],
   "source": [
    "save = True\n",
    "if save:\n",
    "    np.save('blind_cameras_dataset/blinded_filtered.npy',filtered_blind)\n",
    "    np.save('blind_cameras_dataset/blinded.npy',blind)"
   ]
  },
  {
   "attachments": {},
   "cell_type": "markdown",
   "metadata": {},
   "source": [
    "#### Read from pickle file"
   ]
  },
  {
   "cell_type": "code",
   "execution_count": 14,
   "metadata": {},
   "outputs": [],
   "source": [
    "read = False\n",
    "if read:\n",
    "    with open('blind_cameras_dataset/blinded.npy', 'rb') as f:\n",
    "        load_blind = np.load(f)"
   ]
  }
 ],
 "metadata": {
  "kernelspec": {
   "display_name": "Python 3.10.6 64-bit",
   "language": "python",
   "name": "python3"
  },
  "language_info": {
   "codemirror_mode": {
    "name": "ipython",
    "version": 3
   },
   "file_extension": ".py",
   "mimetype": "text/x-python",
   "name": "python",
   "nbconvert_exporter": "python",
   "pygments_lexer": "ipython3",
   "version": "3.10.6"
  },
  "orig_nbformat": 4,
  "vscode": {
   "interpreter": {
    "hash": "0d3a2212c6ea9909c99d276ccee16ce70ccbb8ee28c7688b0b9cee09dfbfc972"
   }
  }
 },
 "nbformat": 4,
 "nbformat_minor": 2
}
