{
 "cells": [
  {
   "attachments": {},
   "cell_type": "markdown",
   "metadata": {},
   "source": [
    "## Blinded cameras clustering"
   ]
  },
  {
   "attachments": {},
   "cell_type": "markdown",
   "metadata": {},
   "source": [
    "Here the dataset is a pandas DataFrame generated from a response.drdf file. \n",
    "The file can be found at \"/storage/gpfs_data/neutrino/SAND-LAr/SAND-LAr-GRAIN-CALORIMETRY/data/cube_production/production1/cube_X0_Y0_Z-3/output/response_cut.drdf\"."
   ]
  },
  {
   "cell_type": "code",
   "execution_count": 1,
   "metadata": {},
   "outputs": [],
   "source": [
    "import pandas as pd\n",
    "import numpy as np\n",
    "from matplotlib import pyplot as plt \n",
    "from matplotlib.backends.backend_pdf import PdfPages\n",
    "from sklearn.cluster import KMeans\n",
    "import skimage\n",
    "from joblib import Parallel, delayed"
   ]
  },
  {
   "attachments": {},
   "cell_type": "markdown",
   "metadata": {},
   "source": [
    "### Read data from pickle format"
   ]
  },
  {
   "attachments": {},
   "cell_type": "markdown",
   "metadata": {},
   "source": [
    "Compose data array from dataframe column, keeping different cameras in the rows, while columns represent the pixels"
   ]
  },
  {
   "cell_type": "code",
   "execution_count": 2,
   "metadata": {},
   "outputs": [],
   "source": [
    "#module_path = os.path.abspath(os.path.join('..'))\n",
    "df = pd.read_pickle(\"blind_cameras_dataset\\\\drdf_arrays.pkl\")\n",
    "\n",
    "df2arr = df.pixels.to_numpy()\n",
    "arr3d = np.stack(df2arr)\n",
    "data = arr3d.reshape(df2arr.shape[0],32*32)\n"
   ]
  },
  {
   "cell_type": "code",
   "execution_count": 3,
   "metadata": {},
   "outputs": [],
   "source": [
    "# NB this os the proof of how the reshape method works!!\n",
    "# t0 = test[0]\n",
    "# t1 = test1[0]\n",
    "# d = np.empty(0)\n",
    "# for i in range(32):\n",
    "#     for j in range(32):\n",
    "#         diff = t0[i,j] - t1[i*32+j]\n",
    "#         d = np.apltend(d,diff)\n",
    "        \n",
    "# print(np.min(d), np.max(d))"
   ]
  },
  {
   "attachments": {},
   "cell_type": "markdown",
   "metadata": {},
   "source": [
    "### Show distribution of data from the entire file"
   ]
  },
  {
   "cell_type": "code",
   "execution_count": 4,
   "metadata": {},
   "outputs": [
    {
     "data": {
      "image/png": "[encoded data removed]",
      "text/plain": [
       "<Figure size 640x480 with 1 Axes>"
      ]
     },
     "metadata": {},
     "output_type": "display_data"
    }
   ],
   "source": [
    "plt.hist(data.reshape(-1,1),100)\n",
    "plt.yscale('log')"
   ]
  },
  {
   "attachments": {},
   "cell_type": "markdown",
   "metadata": {},
   "source": [
    "### Filter data"
   ]
  },
  {
   "cell_type": "code",
   "execution_count": 5,
   "metadata": {},
   "outputs": [],
   "source": [
    "def task(camera):\n",
    "    thr = skimage.filters.threshold_minimum(image=camera, nbins=1024, max_num_iter=1000000)\n",
    "    return thr\n",
    "\n",
    "filter = False\n",
    "\n",
    "if filter:\n",
    "    thresholds = Parallel(n_jobs=5)(delayed(task)(i) for i in arr3d[:2000])\n",
    "    \n",
    "    print(thresholds)\n",
    "    thr = np.array(thresholds).reshape(-1,1)\n",
    "    filt = (data[:1000] > thr)*thr\n",
    "    filt.shape"
   ]
  },
  {
   "attachments": {},
   "cell_type": "markdown",
   "metadata": {},
   "source": [
    "N.B. takes 14 min"
   ]
  },
  {
   "cell_type": "code",
   "execution_count": 6,
   "metadata": {},
   "outputs": [],
   "source": [
    "if not filter:\n",
    "    hess = skimage.filters.hessian(arr3d)\n",
    "    hess.shape\n",
    "    filt = (hess*arr3d).reshape(-1,1024)"
   ]
  },
  {
   "cell_type": "markdown",
   "metadata": {},
   "source": [
    "### Find probable blinded cameras through simple amplitude considerations"
   ]
  },
  {
   "cell_type": "code",
   "execution_count": 43,
   "metadata": {},
   "outputs": [
    {
     "name": "stdout",
     "output_type": "stream",
     "text": [
      "491 over 46968\n"
     ]
    }
   ],
   "source": [
    "index = np.empty(0)\n",
    "\n",
    "for img in arr3d:\n",
    "    if (np.amax(img) > 40):\n",
    "        if (np.amax(img)/np.mean(img) > 7):\n",
    "            index = np.append(index, 1)\n",
    "        else :\n",
    "            index = np.append(index, 0) \n",
    "    else :\n",
    "        index = np.append(index, 0) \n",
    "        \n",
    "print(index[index == 1].size, 'over', arr3d.shape[0])\n",
    "assigned_blind = arr3d[np.where(index == 1)]\n",
    "#print(np.where(index == 1))"
   ]
  },
  {
   "attachments": {},
   "cell_type": "markdown",
   "metadata": {},
   "source": [
    "### Use the KMean algorithm to clusterise the datasample.\n",
    "The same data are the processed to check the clusterization."
   ]
  },
  {
   "cell_type": "code",
   "execution_count": 72,
   "metadata": {},
   "outputs": [
    {
     "name": "stdout",
     "output_type": "stream",
     "text": [
      "45684 131 13 1 2\n"
     ]
    }
   ],
   "source": [
    "# Declaring Model\n",
    "# model = KMeans(n_clusters=3)\n",
    "# model1 = KMeans(init=\"random\", n_clusters=3, n_init=20, random_state=0)\n",
    "# model2 = KMeans(init=\"k-means++\", n_clusters=3, n_init=20, random_state=0)\n",
    "model3 = KMeans(init=\"k-means++\", n_clusters=7, n_init=20, random_state=0)\n",
    "# Fitting Model\n",
    "# model.fit(data)\n",
    "# model1.fit(data)\n",
    "# model2.fit(data)\n",
    "model3.fit(filt)\n",
    "\n",
    "# print(np.count_nonzero(model1.labels_ == 0), np.count_nonzero(model1.labels_ == 1), np.count_nonzero(model1.labels_ == 2))\n",
    "# print(np.count_nonzero(model2.labels_ == 0), np.count_nonzero(model2.labels_ == 1), np.count_nonzero(model2.labels_ == 2))\n",
    "print(np.count_nonzero(model3.labels_ == 0), np.count_nonzero(model3.labels_ == 1), np.count_nonzero(model3.labels_ == 2), np.count_nonzero(model3.labels_ == 3), np.count_nonzero(model3.labels_ == 4))\n",
    "\n",
    "lb3 = model3.predict(filt)"
   ]
  },
  {
   "cell_type": "markdown",
   "metadata": {},
   "source": [
    "#### Model evaluation"
   ]
  },
  {
   "cell_type": "code",
   "execution_count": 73,
   "metadata": {},
   "outputs": [
    {
     "name": "stdout",
     "output_type": "stream",
     "text": [
      "true positive = 391 / 491 = 79.63340122199592 %\n",
      "false positive = 893 / 1284 = 69.54828660436138 %\n"
     ]
    }
   ],
   "source": [
    "clustered_blind_idx = np.where((lb3 == 1) | (lb3 == 2) | (lb3 == 3) | (lb3 == 4) | (lb3 == 5)| (lb3 == 6))[0]\n",
    "\n",
    "common_cameras = np.intersect1d(clustered_blind_idx, np.where(index == 1))\n",
    "print('true positive =', common_cameras.shape[0], '/', assigned_blind.shape[0], '=', common_cameras.shape[0]/assigned_blind.shape[0]*100, '%')\n",
    "print('false positive =', clustered_blind_idx.shape[0] - common_cameras.shape[0], '/', clustered_blind_idx.shape[0], '=', (clustered_blind_idx.shape[0] - common_cameras.shape[0])/clustered_blind_idx.shape[0]*100, '%')"
   ]
  },
  {
   "cell_type": "code",
   "execution_count": 69,
   "metadata": {},
   "outputs": [
    {
     "data": {
      "image/png": "[encoded data removed]",
      "text/plain": [
       "<Figure size 2000x1000 with 6 Axes>"
      ]
     },
     "metadata": {},
     "output_type": "display_data"
    }
   ],
   "source": [
    "\n",
    "#bl3 = np.where(lb3 == 2)\n",
    "#bl3 = np.where((lb3 == 1) | (lb3 == 2) | (lb3 == 3) | (lb3 == 4))\n",
    "#   blind_in_common3 = np.intersect1d(blind_candidate, blind_candidate[bl3[0]])\n",
    "#blind_in_common3 = np.intersect1d(blind_candidate, bl3[0])\n",
    "#   print('common blind =', blind_in_common3.size,'out of',bl3[0].size, 'predicted.\\nCandidates were',blind_candidate.size)\n",
    "#   blind_not_in_common3 = np.setdiff1d(blind_candidate[bl3[0]], blind_in_common3, assume_unique=True)\n",
    "#blind_not_in_common3 = np.setdiff1d(bl3[0], blind_in_common3, assume_unique=True) #returns the value in arr1 which are not in arr2\n",
    "#   print('not in common :',blind_not_in_common3)\n",
    "\n",
    "# plot photon hit distribution of cluster 0,1,2 separately\n",
    "fig, ax = plt.subplots(2,3)\n",
    "\n",
    "#ax[0].hist(data[np.where(lb3 == 0)[0]].reshape(-1,1),100)\n",
    "ax[0,0].hist(data[np.where(lb3 == 0)[0]].reshape(-1,1),100)\n",
    "ax [0,0].set_yscale('log')\n",
    "ax[0,0].set_title('non blinded')\n",
    "\n",
    "#ax[1].hist(data[np.where(lb3 == 1)[0]].reshape(-1,1),50)\n",
    "ax[0,1].hist(data[np.where(lb3 == 1)[0]].reshape(-1,1),50)\n",
    "ax [0,1].set_yscale('log')\n",
    "ax[0,1].set_title('blinded cat1')\n",
    "\n",
    "ax[0,2].hist(data[np.where(lb3 == 2)[0]].reshape(-1,1),50)\n",
    "#ax[2].hist(data[np.where(lb3 == 1)[0]].reshape(-1,1),50)\n",
    "ax [0,2].set_yscale('log')\n",
    "ax[0,2].set_title('blinded cat2')\n",
    "\n",
    "ax[1,0].hist(data[np.where(lb3 == 3)[0]].reshape(-1,1),50)\n",
    "#ax[2].hist(data[np.where(lb3 == 1)[0]].reshape(-1,1),50)\n",
    "ax [1,0].set_yscale('log')\n",
    "ax[1,0].set_title('blinded cat3')\n",
    "\n",
    "ax[1,1].hist(data[np.where(lb3 == 4)[0]].reshape(-1,1),50)\n",
    "#ax[2].hist(data[np.where(lb3 == 1)[0]].reshape(-1,1),50)\n",
    "ax [1,1].set_yscale('log')\n",
    "ax[1,1].set_title('blinded cat4')\n",
    "\n",
    "ax[1,2].hist(data[np.where(lb3 == 6)[0]].reshape(-1,1),50)\n",
    "#ax[2].hist(data[np.where(lb3 == 1)[0]].reshape(-1,1),50)\n",
    "ax [1,2].set_yscale('log')\n",
    "ax[1,2].set_title('blinded cat4')\n",
    "\n",
    "fig.set_figwidth(20)\n",
    "fig.set_figheight(10)"
   ]
  },
  {
   "cell_type": "code",
   "execution_count": 9,
   "metadata": {},
   "outputs": [
    {
     "data": {
      "text/plain": [
       "array([   17,    63,    64,    69,   245,   397,   473,   671,   701,\n",
       "         929,   970,   975,  1005,  1127,  1157,  1203,  1233,  1274,\n",
       "        1385,  1461,  1507,  1537,  1603,  1689,  1841,  2069,  2373,\n",
       "        2494,  2525,  2723,  2799,  2804,  2829,  2874,  3133,  3284,\n",
       "        3285,  3325,  3402,  3665,  3969,  4015,  4273,  4395,  4623,\n",
       "        4729,  4957,  5154,  5261,  5308,  5413,  5458,  5463,  5464,\n",
       "        5489,  5717,  5793,  5869,  6173,  6249,  6446,  6477,  6533,\n",
       "        6553,  7085,  7131,  7160,  7161,  7283,  7360,  7510,  7541,\n",
       "        8068,  8073,  8077,  8301,  8347,  8377,  8528,  8574,  8576,\n",
       "        8605,  8651,  8682,  8909,  9107,  9223,  9593,  9745,  9821,\n",
       "        9897,  9943,  9973, 10125, 10201, 10247, 10581, 10961, 11037,\n",
       "       11265, 11553, 11569, 11616, 11797, 12177, 12299, 12405, 12481,\n",
       "       12633, 12785, 13165, 13241, 13242, 13287, 13317, 13363, 13364,\n",
       "       13506, 13621, 13673, 13696, 13697, 13925, 13969, 14001, 14002,\n",
       "       14077, 14153, 14199, 14229, 14351, 14533, 14579, 14609, 14660,\n",
       "       14837, 14838, 14989, 15035, 15040, 15041, 15065, 15141, 15291,\n",
       "       15292, 15293, 15294, 15298, 15338, 15340, 15344, 15673, 15719,\n",
       "       15749, 15977, 16024, 16053, 16129, 16357, 16433, 16479, 16509,\n",
       "       16555, 16661, 16813, 16889, 16966, 17117, 17163, 17193, 17391,\n",
       "       17421, 17497, 17649, 17705, 17877, 17878, 17923, 18156, 18227,\n",
       "       18257, 18303, 18333, 18637, 18713, 18759, 19093, 19169, 19245,\n",
       "       19321, 19362, 19366, 19397, 19625, 19671, 19701, 19747, 19860,\n",
       "       20005, 20081, 20207, 20228, 20233, 20279, 20280, 20537, 20689,\n",
       "       20765, 20917, 20963, 21449, 21601, 21753, 21829, 21879, 21981,\n",
       "       22326, 22330, 22361, 22407, 22437, 22482, 22631, 22665, 22716,\n",
       "       22960, 22965, 22987, 23015, 23019, 23045, 23091, 23092, 23167,\n",
       "       23273, 23653, 23781, 24033, 24185, 24337, 24383, 24565, 24793,\n",
       "       24839, 25097, 25250, 25325, 25401, 25705, 25781, 25857, 25903,\n",
       "       25933, 26161, 26237, 26283, 26541, 26845, 26921, 27301, 27377,\n",
       "       27423, 27453, 27681, 27757, 27832, 27909, 28061, 28106, 28289,\n",
       "       28365, 28441, 28593, 28669, 28821, 28897, 29125, 29277, 29353,\n",
       "       29393, 29429, 29480, 29808, 29809, 29850, 29854, 29947, 29961,\n",
       "       30007, 30012, 30113, 30159, 30189, 30235, 30341, 30493, 30568,\n",
       "       30569, 30614, 30615, 30797, 30949, 30996, 31177, 31299, 31482,\n",
       "       31524, 31528, 31557, 31602, 31633, 31649, 31785, 32013, 32043,\n",
       "       32060, 32241, 32312, 32393, 32667, 32697, 32743, 32773, 32813,\n",
       "       32849, 32925, 33001, 33048, 33152, 33153, 33195, 33200, 33229,\n",
       "       33521, 33533, 33579, 33609, 33654, 33656, 34065, 34521, 34673,\n",
       "       34719, 34795, 34901, 35205, 35250, 35251, 35357, 35433, 35509,\n",
       "       35585, 35813, 35888, 35889, 35929, 35934, 35978, 36041, 36193,\n",
       "       36421, 36619, 36623, 36624, 36649, 36877, 37415, 37561, 37637,\n",
       "       37713, 37760, 37941, 38088, 38092, 38093, 38138, 38140, 38169,\n",
       "       38473, 38518, 38519, 38524, 38777, 38929, 38991, 39000, 39004,\n",
       "       39006, 39011, 39046, 39047, 39050, 39052, 39053, 39081, 39086,\n",
       "       39126, 39131, 39157, 39350, 39461, 39527, 39613, 39614, 39658,\n",
       "       39660, 39737, 40115, 40140, 40297, 40343, 40373, 40981, 41209,\n",
       "       41255, 41434, 41513, 41665, 41893, 41940, 41968, 41969, 41970,\n",
       "       42014, 42016, 42121, 42197, 42273, 42324, 42349, 42425, 42653,\n",
       "       42775, 43185, 43261, 43312, 43413, 43453, 43601, 43641, 43687,\n",
       "       43839, 43869, 44097, 44143, 44144, 44296, 44477, 44552, 44553,\n",
       "       44599, 44628, 44629, 44781, 44787, 44827, 44933, 45009, 45085,\n",
       "       45110, 45161, 45212, 45465, 45541, 45662, 45921, 46149, 46225,\n",
       "       46271, 46681, 46727, 46728, 46757, 46797, 46909], dtype=int64)"
      ]
     },
     "execution_count": 9,
     "metadata": {},
     "output_type": "execute_result"
    }
   ],
   "source": [
    "#np.where(lb3 == 4)[0]"
   ]
  },
  {
   "cell_type": "code",
   "execution_count": 44,
   "metadata": {},
   "outputs": [
    {
     "name": "stdout",
     "output_type": "stream",
     "text": [
      "209 over 501\n",
      "282 over 46467\n",
      "(array([   57,   588,   894,   960,   963,  1119,  1266,  1496,  2467,\n",
      "        3298,  3746,  3822,  3971,  4043,  4124,  4248,  4346,  4508,\n",
      "        4952,  4955,  5106,  5181,  5409,  5410,  5706,  5855,  6008,\n",
      "        6234,  6385,  6534,  6546,  6610,  6684,  6841,  6913,  7437,\n",
      "        7769,  7829,  7895,  7971,  8200,  8420,  8495,  8569,  8716,\n",
      "        8858,  9017,  9169,  9333,  9540,  9608,  9732, 10003, 10056,\n",
      "       10067, 10069, 10365, 10368, 10530, 10753, 10784, 10824, 10950,\n",
      "       11131, 11282, 11363, 11429, 11443, 11512, 11918, 12173, 12191,\n",
      "       12217, 12563, 12867, 13171, 13305, 13467, 13609, 13850, 13920,\n",
      "       14219, 14362, 14514, 14680, 14695, 14726, 14737, 14893, 15033,\n",
      "       15129, 15169, 15332, 15408, 15479, 15508, 15559, 16389, 16776,\n",
      "       16913, 17061, 17513, 17695, 17740, 17741, 17742, 18029, 18137,\n",
      "       18141, 18416, 18716, 18936, 19025, 19093, 19169, 19249, 19316,\n",
      "       19392, 19462, 19762, 19842, 20065, 20444, 20523, 20771, 21274,\n",
      "       21502, 21506, 21730, 22006, 22168, 22202, 22472, 22779, 22841,\n",
      "       22850, 22864, 22922, 23072, 23204, 23221, 23841, 23907, 23967,\n",
      "       23985, 23989, 24129, 24507, 24737, 24963, 25189, 25593, 25606,\n",
      "       25642, 25847, 25958, 26245, 26472, 26548, 26563, 26617, 26744,\n",
      "       26956, 27145, 27146, 27148, 27533, 27603, 27673, 27679, 27754,\n",
      "       28205, 28319, 28355, 28431, 28652, 28733, 28876, 28887, 28889,\n",
      "       28967, 29109, 29254, 29259, 29926, 30075, 30300, 30334, 30607,\n",
      "       30638, 30677, 30682, 30828, 30838, 31163, 31431, 31584, 31882,\n",
      "       31956, 31977, 32102, 32112, 32403, 32407, 32555, 32814, 33004,\n",
      "       33686, 33755, 34210, 34813, 34911, 34917, 35184, 35253, 35295,\n",
      "       35513, 35779, 35785, 36089, 36165, 36227, 36313, 36385, 36540,\n",
      "       36547, 36616, 36621, 36651, 36870, 37036, 37070, 37221, 37677,\n",
      "       37748, 38599, 38710, 38782, 39055, 39084, 39157, 39306, 39566,\n",
      "       39609, 39611, 39859, 40029, 40063, 40356, 40816, 41111, 41354,\n",
      "       41420, 41571, 41640, 41659, 41785, 41875, 42050, 42166, 42339,\n",
      "       42387, 42468, 42651, 43082, 43317, 43366, 43370, 43516, 43669,\n",
      "       43676, 43747, 43823, 44198, 44346, 44663, 44669, 45248, 45471,\n",
      "       45627, 46003, 46004], dtype=int64),)\n"
     ]
    }
   ],
   "source": [
    "blind = data[np.where((lb3 == 1) | (lb3 == 2) | (lb3 == 3) | (lb3 == 4) | (lb3 == 5))]\n",
    "not_blind = data[np.where(lb3 == 0)]\n",
    "\n",
    "index_b = np.empty(0)\n",
    "index_nb = np.empty(0)\n",
    "\n",
    "for img in blind:\n",
    "    if np.max(img)/np.mean(img) > 7:\n",
    "        index_b = np.append(index_b, 1)\n",
    "    else :\n",
    "        index_b = np.append(index_b, 0)\n",
    "\n",
    "print(index_b[index_b == 1].size, 'over', blind.shape[0])\n",
    "filtered_blind = blind[np.where(index_b == 1)]\n",
    "#print(np.where(index_b == 1))\n",
    "\n",
    "for img in not_blind:\n",
    "    if (np.amax(img) > 40):\n",
    "        if (np.amax(img)/np.mean(img) > 7):\n",
    "            index_nb = np.append(index_nb, 1)\n",
    "        else :\n",
    "            index_nb = np.append(index_nb, 0) \n",
    "    else :\n",
    "        index_nb = np.append(index_nb, 0) \n",
    "        \n",
    "print(index_nb[index_nb == 1].size, 'over', not_blind.shape[0])\n",
    "filtered_not_blind = not_blind[np.where(index_nb == 1)]\n",
    "#print(np.where(index_nb == 1))"
   ]
  },
  {
   "attachments": {},
   "cell_type": "markdown",
   "metadata": {},
   "source": [
    "### Plot photon distribution for 1 camera"
   ]
  },
  {
   "cell_type": "code",
   "execution_count": 41,
   "metadata": {},
   "outputs": [
    {
     "data": {
      "image/png": "[encoded data removed]",
      "text/plain": [
       "<Figure size 1500x480 with 3 Axes>"
      ]
     },
     "metadata": {},
     "output_type": "display_data"
    }
   ],
   "source": [
    "data_num = 15479\n",
    "\n",
    "fig, ax = plt.subplots(1,2)\n",
    "ax[0].hist(not_blind[data_num],100)\n",
    "ax[0].set_yscale('log')\n",
    "\n",
    "#camera = np.reshape(df.iloc[162].pixels, (32,32))\n",
    "cam = ax[1].pcolormesh(not_blind[data_num].reshape(32,32))\n",
    "#cam = ax[1].pcolormesh(arr3d[data_num])\n",
    "plt.colorbar(cam)\n",
    "\n",
    "fig.set_figwidth(15)"
   ]
  },
  {
   "attachments": {},
   "cell_type": "markdown",
   "metadata": {},
   "source": [
    "### save cameras to pdf"
   ]
  },
  {
   "cell_type": "code",
   "execution_count": 12,
   "metadata": {},
   "outputs": [],
   "source": [
    "write_pdf = True\n",
    "if (filtered_blind.shape[0] < 1000) & (write_pdf) :\n",
    "    pdf = PdfPages('blinded_filtered.pdf')\n",
    "    for num in filtered_blind:\n",
    "        fig = plt.figure()\n",
    "        cam = plt.pcolormesh(num.reshape(32,32))\n",
    "        plt.colorbar(cam)\n",
    "        #plt.title('cam-'+str(num))\n",
    "        pdf.savefig(fig)\n",
    "        plt.close()\n",
    "    pdf.close()\n",
    "    \n",
    "if (blind.shape[0] < 1000) & (write_pdf) :\n",
    "    pdf = PdfPages('blinded.pdf')\n",
    "    for num in blind:\n",
    "        fig = plt.figure()\n",
    "        cam = plt.pcolormesh(num.reshape(32,32))\n",
    "        plt.colorbar(cam)\n",
    "        #plt.title('cam-'+str(num))\n",
    "        pdf.savefig(fig)\n",
    "        plt.close()\n",
    "    pdf.close()"
   ]
  },
  {
   "attachments": {},
   "cell_type": "markdown",
   "metadata": {},
   "source": [
    "#### Save to pickle file"
   ]
  },
  {
   "cell_type": "code",
   "execution_count": 13,
   "metadata": {},
   "outputs": [],
   "source": [
    "save = True\n",
    "if save:\n",
    "    np.save('blind_cameras_dataset/blinded_filtered.npy',filtered_blind)\n",
    "    np.save('blind_cameras_dataset/blinded.npy',blind)"
   ]
  },
  {
   "attachments": {},
   "cell_type": "markdown",
   "metadata": {},
   "source": [
    "#### Read from pickle file"
   ]
  },
  {
   "cell_type": "code",
   "execution_count": 14,
   "metadata": {},
   "outputs": [],
   "source": [
    "read = False\n",
    "if read:\n",
    "    with open('blind_cameras_dataset/blinded.npy', 'rb') as f:\n",
    "        load_blind = np.load(f)"
   ]
  }
 ],
 "metadata": {
  "kernelspec": {
   "display_name": "Python 3.10.6 64-bit",
   "language": "python",
   "name": "python3"
  },
  "language_info": {
   "codemirror_mode": {
    "name": "ipython",
    "version": 3
   },
   "file_extension": ".py",
   "mimetype": "text/x-python",
   "name": "python",
   "nbconvert_exporter": "python",
   "pygments_lexer": "ipython3",
   "version": "3.10.6"
  },
  "orig_nbformat": 4,
  "vscode": {
   "interpreter": {
    "hash": "0d3a2212c6ea9909c99d276ccee16ce70ccbb8ee28c7688b0b9cee09dfbfc972"
   }
  }
 },
 "nbformat": 4,
 "nbformat_minor": 2
}
